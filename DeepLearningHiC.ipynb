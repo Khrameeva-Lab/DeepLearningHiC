{
 "cells": [
  {
   "cell_type": "code",
   "execution_count": null,
   "metadata": {},
   "outputs": [],
   "source": [
    "# Notes:\n",
    "# матрица симметричная, не забывать, что может быть двойное включение\n",
    "# loss function modifyable\n",
    "# extract_good_regions - может быть другая\n",
    "# квадраты, которые мы не выбрали для validation set'а\n",
    "\n",
    "# Когда TASK_SIZE становится больше ~300, plt.imshow() начинает показывать не все nan - участки\n",
    "# Из-за этого кажется, что выбор хороших квадратов работает неправильно и выбирает хороший квадрат \"не до конца\"\n",
    "# Можно приблизить конкретный участок и убедиться, что там на самом деле есть маленький квадрат, окруженный nan'ами\n",
    "\n",
    "# по диагонали берутся данные дважды - обычные и зеркальные\n",
    "# если берем квадрат из одного из треугольников, надо брать такой же квадарт в другом из треугольников\n",
    "# квадраты ориентированы по разному. сверху до низу может быть градиент, другой квадрат может помочь нарушить эту зависимость\n",
    "# -1 дважды\n",
    "\n",
    "# TIP:\n",
    "# Use pandas.DataFrame() when need to visualize huge matrices\n",
    "\n",
    "# фича - насколько далеко от диагонали находится квадратик\n",
    "# фичи - диагональный крест\n",
    "\n",
    "# TODO:\n",
    "# 1) Выбирать квадрат из другого треугольника, если он был выбран в одном из треугольников\n",
    "\n",
    "# Plans:\n",
    "# 7) Try to change cost function. Maybe MSE is not enough?\n",
    "# 8) попробовать брать значения только из одного треугольника\n",
    "\n",
    "# попробовать интерполяцию - бикубическая\n",
    "# в курсовую можно уже вставить ноутбуки с комментариями - как обзор литературы\n",
    "\n",
    "# Use keras for convolutional NN"
   ]
  },
  {
   "cell_type": "code",
   "execution_count": 1,
   "metadata": {},
   "outputs": [
    {
     "name": "stderr",
     "output_type": "stream",
     "text": [
      "/anaconda3/lib/python3.6/site-packages/h5py/__init__.py:36: FutureWarning: Conversion of the second argument of issubdtype from `float` to `np.floating` is deprecated. In future, it will be treated as `np.float64 == np.dtype(float).type`.\n",
      "  from ._conv import register_converters as _register_converters\n"
     ]
    }
   ],
   "source": [
    "import matplotlib.pyplot as plt\n",
    "import numpy as np\n",
    "import pandas\n",
    "\n",
    "pandas.set_option('display.max_columns', 500)\n",
    "pandas.set_option('display.max_rows', 500)\n",
    "\n",
    "import h5py\n",
    "import random\n",
    "\n",
    "import math\n",
    "import tensorflow as tf\n",
    "from tensorflow.python.framework import ops\n",
    "\n",
    "import cooler"
   ]
  },
  {
   "cell_type": "code",
   "execution_count": 2,
   "metadata": {},
   "outputs": [],
   "source": [
    "# the following directive activates inline plotting\n",
    "%matplotlib inline\n",
    "\n",
    "# allow to allocate resources for model training\n",
    "config = tf.ConfigProto()\n",
    "config.gpu_options.allow_growth = True"
   ]
  },
  {
   "cell_type": "code",
   "execution_count": 3,
   "metadata": {},
   "outputs": [],
   "source": [
    "# constants\n",
    "TASK_SIZE = 2300\n",
    "\n",
    "# TODO: вынести в константы все остальные параметры (defect thresh, number of coin tosses, sigma\n",
    "# + константы, относящиеся к нейронной сети)"
   ]
  },
  {
   "cell_type": "code",
   "execution_count": 4,
   "metadata": {},
   "outputs": [],
   "source": [
    "def plot_hic(matrix):\n",
    "    fig = plt.figure(figsize=(10, 10))\n",
    "    ax = fig.add_subplot(111)\n",
    "    im = ax.matshow(np.log10(matrix), cmap='YlOrRd')\n",
    "    fig.colorbar(im)"
   ]
  },
  {
   "cell_type": "code",
   "execution_count": 5,
   "metadata": {},
   "outputs": [],
   "source": [
    "def mark_nans_as_zeros(matrix):\n",
    "    # we think NaN == 0 for now\n",
    "    matrix[np.isnan(matrix)] = 0"
   ]
  },
  {
   "cell_type": "code",
   "execution_count": 151,
   "metadata": {},
   "outputs": [],
   "source": [
    "def mark_defective_as_nan(matrix):\n",
    "    # row or column is considered to be defective if less than 5% of values are non-zero\n",
    "    DEFECT_THRESHOLD = 30\n",
    "    \n",
    "    # non-zero values will give True\n",
    "    boolean_matrix = matrix != 0\n",
    "    \n",
    "    defective_rows = np.where(np.sum(boolean_matrix, axis = 1) < ((TASK_SIZE / 100) * DEFECT_THRESHOLD))\n",
    "    defective_columns = np.where(np.sum(boolean_matrix, axis = 0) < ((TASK_SIZE / 100) * DEFECT_THRESHOLD))\n",
    "    \n",
    "    # place nan value for all defective rows\n",
    "    for defective_row in defective_rows:\n",
    "        matrix[defective_row, :] = np.nan\n",
    "        \n",
    "    for defective_column in defective_columns:\n",
    "        matrix[:, defective_column] = np.nan\n",
    "        "
   ]
  },
  {
   "cell_type": "code",
   "execution_count": 152,
   "metadata": {},
   "outputs": [],
   "source": [
    "# function drops a coin pseudo randomly somewhere on the hi-c map \n",
    "# to select the region that will get into the training set\n",
    "# The coin is not fair, it extracts regions near the diagonal more frequently\n",
    "def _coin_toss():\n",
    "    # sigma is a tunable parameter\n",
    "    # sigma is smaller => selected segments are closer to the diagonal\n",
    "    sigma = int(TASK_SIZE/10)\n",
    "\n",
    "    result = []\n",
    "    for coordinate in np.random.normal(random.randint(sigma, TASK_SIZE - sigma), sigma, 2):\n",
    "        if coordinate < TASK_SIZE:\n",
    "            if coordinate >= 0:\n",
    "                result.append(int(coordinate))\n",
    "            else:\n",
    "                result.append(0)\n",
    "        else:\n",
    "            result.append(TASK_SIZE - 1)\n",
    "    \n",
    "    return result"
   ]
  },
  {
   "cell_type": "code",
   "execution_count": 153,
   "metadata": {},
   "outputs": [],
   "source": [
    "def _search_edges(extraction_matrix, coin_xy):\n",
    "    upper_left = [coin_xy[0], coin_xy[1]]\n",
    "    \n",
    "    while upper_left[0] - 1 >= 0 and extraction_matrix[upper_left[0] - 1][upper_left[1]] == 0: \n",
    "        upper_left[0] -= 1\n",
    "    \n",
    "    while upper_left[1] - 1 >= 0 and extraction_matrix[upper_left[0]][upper_left[1] - 1] == 0:\n",
    "        upper_left[1] -= 1\n",
    "                                                       \n",
    "    lower_right = [coin_xy[0], coin_xy[1]]\n",
    "    \n",
    "    while lower_right[0] + 1 < TASK_SIZE and extraction_matrix[lower_right[0] + 1][lower_right[1]] == 0:\n",
    "        lower_right[0] += 1\n",
    "    \n",
    "    while lower_right[1] + 1 < TASK_SIZE and extraction_matrix[lower_right[0]][lower_right[1] + 1] == 0:\n",
    "        lower_right[1] += 1\n",
    "        \n",
    "    return upper_left, lower_right\n",
    "                                        "
   ]
  },
  {
   "cell_type": "code",
   "execution_count": 154,
   "metadata": {},
   "outputs": [],
   "source": [
    "def extract_good_regions(matrix):\n",
    "    # TODO: this value is hardcoded for now, but it should be computed dynamically\n",
    "    # This number will depend on: number of good regions, good region to bad region ratio (good region density),\n",
    "    # map size (?), tunable parameter C (human can tune this parameter looking at the visualization)\n",
    "    # The number of good regions can be estimated by the number of defect intersections\n",
    "    number_of_tosses = 200000\n",
    "    extraction_matrix = np.isnan(matrix).astype(int)\n",
    "    resulting_matrices = []\n",
    "    \n",
    "    for i in range(number_of_tosses):\n",
    "        x_y = _coin_toss()\n",
    "        \n",
    "        if extraction_matrix[x_y[0]][x_y[1]] == 0:\n",
    "            upper_left, lower_right = _search_edges(extraction_matrix, x_y)\n",
    "            resulting_matrices.append(matrix[upper_left[0]:(lower_right[0] + 1), upper_left[1]:(lower_right[1] + 1)])\n",
    "        \n",
    "            # -1 where extraction happened\n",
    "            extraction_matrix[upper_left[0]:(lower_right[0] + 1), upper_left[1]:(lower_right[1] + 1)] = -1\n",
    "            \n",
    "    return resulting_matrices, extraction_matrix"
   ]
  },
  {
   "cell_type": "code",
   "execution_count": 200,
   "metadata": {},
   "outputs": [],
   "source": [
    "# import hi-c data (drosophila embryo)\n",
    "filepath = \"Kc167.10000.cool\"\n",
    "c = cooler.Cooler(filepath)\n",
    "\n",
    "# TODO (future): train на одной хромосоме, test на другой хромосоме\n",
    "# получаем карту контактов для одной хромосомы, нам не нужны межхромосомные взаимодействия\n",
    "arr = c.matrix(balance=True).fetch('chr2L')\n",
    "\n",
    "current_matrix = arr[0:TASK_SIZE, 0:TASK_SIZE]\n",
    "\n",
    "# delete main diagonal\n",
    "np.fill_diagonal(current_matrix, np.nan)"
   ]
  },
  {
   "cell_type": "code",
   "execution_count": 201,
   "metadata": {},
   "outputs": [
    {
     "name": "stderr",
     "output_type": "stream",
     "text": [
      "/anaconda3/lib/python3.6/site-packages/ipykernel_launcher.py:4: RuntimeWarning: divide by zero encountered in log10\n",
      "  after removing the cwd from sys.path.\n"
     ]
    },
    {
     "data": {
      "image/png": "[encoded data removed]",
      "text/plain": [
       "<Figure size 720x720 with 2 Axes>"
      ]
     },
     "metadata": {},
     "output_type": "display_data"
    }
   ],
   "source": [
    "# plots before data cleaning\n",
    "plot_hic(current_matrix)"
   ]
  },
  {
   "cell_type": "code",
   "execution_count": 202,
   "metadata": {},
   "outputs": [
    {
     "data": {
      "text/plain": [
       "<matplotlib.image.AxesImage at 0xb2f82de80>"
      ]
     },
     "execution_count": 202,
     "metadata": {},
     "output_type": "execute_result"
    },
    {
     "data": {
      "image/png": "[encoded data removed]",
      "text/plain": [
       "<Figure size 432x288 with 1 Axes>"
      ]
     },
     "metadata": {},
     "output_type": "display_data"
    }
   ],
   "source": [
    "plt.imshow(np.isnan(current_matrix))"
   ]
  },
  {
   "cell_type": "code",
   "execution_count": 203,
   "metadata": {},
   "outputs": [],
   "source": [
    "# clean the data\n",
    "mark_nans_as_zeros(current_matrix)\n",
    "mark_defective_as_nan(current_matrix)"
   ]
  },
  {
   "cell_type": "code",
   "execution_count": 204,
   "metadata": {},
   "outputs": [
    {
     "name": "stderr",
     "output_type": "stream",
     "text": [
      "/anaconda3/lib/python3.6/site-packages/ipykernel_launcher.py:4: RuntimeWarning: divide by zero encountered in log10\n",
      "  after removing the cwd from sys.path.\n"
     ]
    },
    {
     "data": {
      "image/png": "[encoded data removed]",
      "text/plain": [
       "<Figure size 720x720 with 2 Axes>"
      ]
     },
     "metadata": {},
     "output_type": "display_data"
    }
   ],
   "source": [
    "# plots after data cleaning\n",
    "plot_hic(current_matrix)"
   ]
  },
  {
   "cell_type": "code",
   "execution_count": 205,
   "metadata": {},
   "outputs": [
    {
     "data": {
      "text/plain": [
       "<matplotlib.image.AxesImage at 0xb257e3d30>"
      ]
     },
     "execution_count": 205,
     "metadata": {},
     "output_type": "execute_result"
    },
    {
     "data": {
      "image/png": "[encoded data removed]",
      "text/plain": [
       "<Figure size 432x288 with 1 Axes>"
      ]
     },
     "metadata": {},
     "output_type": "display_data"
    }
   ],
   "source": [
    "plt.imshow(np.isnan(current_matrix))"
   ]
  },
  {
   "cell_type": "code",
   "execution_count": 206,
   "metadata": {},
   "outputs": [],
   "source": [
    "# разброс между значениями в матрице большой (0...23)\n",
    "# из-за этого нейронная сеть не учится распознавать разницу между маленькими значениями\n",
    "# поэтому мы нормализуем матрицу так, чтобы привести все значения в диапазон 0...1\n",
    "# https://www.researchgate.net/post/are_there_any_examples_on_Normalizing_the_Inputs_for_Neural_Network_learning\n",
    "def min_max_normalize(matrix, old_min = None, old_max = None):\n",
    "    if old_min is None and old_max is None:\n",
    "        matrix_max = np.nanmax(matrix)\n",
    "        matrix_min = np.nanmin(matrix)\n",
    "    else:\n",
    "        matrix_max = old_max\n",
    "        matrix_min = old_min\n",
    "    \n",
    "    return (matrix - matrix_min) / (matrix_max - matrix_min), matrix_min, matrix_max\n",
    "\n",
    "def min_max_denormalize(matrix, old_min, old_max):\n",
    "    return matrix * (old_max - old_min) + old_min"
   ]
  },
  {
   "cell_type": "code",
   "execution_count": 207,
   "metadata": {},
   "outputs": [],
   "source": [
    "resulting_matrices, visualization_matrix = extract_good_regions(current_matrix)"
   ]
  },
  {
   "cell_type": "code",
   "execution_count": 208,
   "metadata": {},
   "outputs": [
    {
     "data": {
      "text/plain": [
       "1843"
      ]
     },
     "execution_count": 208,
     "metadata": {},
     "output_type": "execute_result"
    }
   ],
   "source": [
    "len(resulting_matrices)"
   ]
  },
  {
   "cell_type": "code",
   "execution_count": 198,
   "metadata": {},
   "outputs": [
    {
     "data": {
      "text/plain": [
       "<matplotlib.image.AxesImage at 0xb265f4860>"
      ]
     },
     "execution_count": 198,
     "metadata": {},
     "output_type": "execute_result"
    },
    {
     "data": {
      "image/png": "[encoded data removed]",
      "text/plain": [
       "<Figure size 432x288 with 1 Axes>"
      ]
     },
     "metadata": {},
     "output_type": "display_data"
    }
   ],
   "source": [
    "plt.imshow(visualization_matrix)"
   ]
  },
  {
   "cell_type": "code",
   "execution_count": null,
   "metadata": {},
   "outputs": [],
   "source": [
    "# forms train and test subsets from one submatrix\n",
    "# Version 1: Only upper and lower cells are considered\n",
    "# TODO: Square feature selection\n",
    "def form_train_subset_v1(matrix):\n",
    "    # this is a tunable parameter\n",
    "    # could be 4 or much more\n",
    "    # only 2 neighboring cells for training for now\n",
    "    number_of_features = 2\n",
    "    \n",
    "    # the submatrix is too small to form training set\n",
    "    if matrix.shape[0] < (number_of_features + 1):\n",
    "        return (None, None)\n",
    "    \n",
    "    cut_indices = np.arange((number_of_features + 1), matrix.shape[0], step = (number_of_features + 1))\n",
    "    \n",
    "    submatrices = np.split(matrix, cut_indices)\n",
    "    \n",
    "    # first train_x and train_y (outside of the loop)\n",
    "    train_x = np.delete(submatrices[0], (number_of_features // 2), axis = 0)\n",
    "    train_y = submatrices[0][(number_of_features // 2), :]\n",
    "    \n",
    "    for submatrice in submatrices[1:]:\n",
    "        # if clause to avoid the last not full chunk\n",
    "        if submatrice.shape[0] == (number_of_features + 1):\n",
    "            # (number_of_features / 2) - center position (label values)\n",
    "            train_x = np.concatenate((train_x, np.delete(submatrice, (number_of_features // 2), axis = 0)), axis = 1)\n",
    "            train_y = np.concatenate((train_y, submatrice[(number_of_features // 2), ]))\n",
    "        \n",
    "    # x - features, y - labels\n",
    "    return (train_x, train_y.T)"
   ]
  },
  {
   "cell_type": "code",
   "execution_count": null,
   "metadata": {},
   "outputs": [],
   "source": [
    "# Testing form_train_subset_v1\n",
    "\n",
    "train_subset_x, train_subset_y = form_train_subset_v1(resulting_matrices[0])\n",
    "\n",
    "print(\"One of the good matrices:\")\n",
    "print(resulting_matrices[0])\n",
    "print(\"Train x from this matrix:\")\n",
    "print(train_subset_x)\n",
    "print(\"Train y from this matrix:\")\n",
    "print(train_subset_y)"
   ]
  },
  {
   "cell_type": "code",
   "execution_count": null,
   "metadata": {},
   "outputs": [],
   "source": [
    "# iterate over all resulting matrices and concatenate results of form_train_subset_v1 function results\n",
    "\n",
    "train_x = np.array([]).reshape(2, 0)\n",
    "train_y = np.array([]).reshape(0, )\n",
    "\n",
    "for resulting_matrice in resulting_matrices:\n",
    "    temp_train_x, temp_train_y = form_train_subset_v1(resulting_matrice)\n",
    "    \n",
    "    if temp_train_x is not None and temp_train_y is not None:\n",
    "        train_x = np.concatenate((train_x, temp_train_x), axis = 1)\n",
    "        train_y = np.concatenate((train_y, temp_train_y))\n",
    "\n",
    "# to make 2D numpy array from the (m, ) vector\n",
    "train_y = np.atleast_2d(train_y)        \n",
    "\n",
    "print(train_x.shape)\n",
    "print(train_y.shape)\n",
    "\n",
    "normalized_train_x, old_min, old_max = min_max_normalize(train_x)\n",
    "\n",
    "### Training set formed ###"
   ]
  },
  {
   "cell_type": "code",
   "execution_count": null,
   "metadata": {},
   "outputs": [],
   "source": [
    "### Model construction (Shallow Neural Network) ###"
   ]
  },
  {
   "cell_type": "code",
   "execution_count": null,
   "metadata": {},
   "outputs": [],
   "source": [
    "def create_placeholders(n_x):\n",
    "    X = tf.placeholder(tf.float32, [n_x, None], name = \"X\")\n",
    "    Y = tf.placeholder(tf.float32, [1, None], name = \"Y\")\n",
    "    \n",
    "    return X, Y"
   ]
  },
  {
   "cell_type": "code",
   "execution_count": null,
   "metadata": {},
   "outputs": [],
   "source": [
    "def initialize_parameters():\n",
    "    \"\"\"\n",
    "    Number of hidden units is selected according to Huang et al. (2003) article\n",
    "    https://www.researchgate.net/post/In_neural_networks_model_which_number_of_hidden_units_to_select\n",
    "    \"\"\"\n",
    "    \n",
    "    # xavier - рассчитан ли на 0...1 ?\n",
    "    # аргумент про маленькие числа не пойдет\n",
    "    \n",
    "    W1 = tf.get_variable(\"W1\", [4, 2], initializer = tf.contrib.layers.xavier_initializer())\n",
    "    b1 = tf.get_variable(\"b1\", [4, 1], initializer = tf.zeros_initializer())\n",
    "    W2 = tf.get_variable(\"W2\", [2, 4], initializer = tf.contrib.layers.xavier_initializer())\n",
    "    b2 = tf.get_variable(\"b2\", [2, 1], initializer = tf.zeros_initializer())\n",
    "    W3 = tf.get_variable(\"W3\", [1, 2], initializer = tf.contrib.layers.xavier_initializer())\n",
    "    b3 = tf.get_variable(\"b3\", [1, 1], initializer = tf.zeros_initializer())\n",
    "\n",
    "    parameters = {\"W1\": W1,\n",
    "                  \"b1\": b1,\n",
    "                  \"W2\": W2,\n",
    "                  \"b2\": b2,\n",
    "                  \"W3\": W3,\n",
    "                  \"b3\": b3}\n",
    "    \n",
    "    return parameters"
   ]
  },
  {
   "cell_type": "code",
   "execution_count": null,
   "metadata": {},
   "outputs": [],
   "source": [
    "def forward_propagation(X, parameters):\n",
    "    \"\"\"\n",
    "    LINEAR -> RELU -> LINEAR -> RELU -> LINEAR\n",
    "    \n",
    "    X -- input dataset placeholder, of shape (input size, number of examples)\n",
    "    parameters -- python dictionary containing parameters \"W1\", \"b1\", \"W2\", \"b2\", \"W3\", \"b3\"\n",
    "                  the shapes are given in initialize_parameters\n",
    "\n",
    "    Returns:\n",
    "    Z3 -- the output of the last LINEAR unit\n",
    "    \"\"\"\n",
    "    \n",
    "    W1 = parameters['W1']\n",
    "    b1 = parameters['b1']\n",
    "    W2 = parameters['W2']\n",
    "    b2 = parameters['b2']\n",
    "    W3 = parameters['W3']\n",
    "    b3 = parameters['b3']\n",
    "    \n",
    "    Z1 = tf.matmul(W1, X) + b1                                              \n",
    "    A1 = tf.nn.relu(Z1)                                              \n",
    "    Z2 = tf.matmul(W2, A1) + b2                                             \n",
    "    A2 = tf.nn.relu(Z2)                                             \n",
    "    Z3 = tf.matmul(W3, A2) + b3\n",
    "    \n",
    "    return Z3"
   ]
  },
  {
   "cell_type": "code",
   "execution_count": null,
   "metadata": {},
   "outputs": [],
   "source": [
    "def compute_cost(Z3, Y):\n",
    "    \"\"\"\n",
    "    Arguments:\n",
    "    Z3 -- output of forward propagation (output of the last LINEAR unit), of shape (1, number of examples)\n",
    "    Y -- \"true\" HI-C values, same shape as Z3\n",
    "    \n",
    "    Returns:\n",
    "    cost - Tensor of the cost function\n",
    "    \"\"\"\n",
    "    \n",
    "    # MSE\n",
    "    cost = tf.reduce_mean(tf.square(Y - Z3))\n",
    "    \n",
    "    return cost"
   ]
  },
  {
   "cell_type": "code",
   "execution_count": null,
   "metadata": {},
   "outputs": [],
   "source": [
    "def random_mini_batches(X, Y, mini_batch_size = 64, seed = 0):\n",
    "    m = X.shape[1]                  # number of training examples\n",
    "    mini_batches = []\n",
    "    np.random.seed(seed)\n",
    "    \n",
    "    # Step 1: Shuffle (X, Y)\n",
    "    permutation = list(np.random.permutation(m))\n",
    "    shuffled_X = X[:, permutation]\n",
    "    shuffled_Y = Y[:, permutation].reshape((Y.shape[0],m))\n",
    "    \n",
    "    # Step 2: Partition (shuffled_X, shuffled_Y). Minus the end case.\n",
    "    num_complete_minibatches = math.floor(m/mini_batch_size) # number of mini batches of size mini_batch_size in your partitionning\n",
    "    for k in range(0, num_complete_minibatches):\n",
    "        mini_batch_X = shuffled_X[:, k * mini_batch_size : k * mini_batch_size + mini_batch_size]\n",
    "        mini_batch_Y = shuffled_Y[:, k * mini_batch_size : k * mini_batch_size + mini_batch_size]\n",
    "        mini_batch = (mini_batch_X, mini_batch_Y)\n",
    "        mini_batches.append(mini_batch)\n",
    "    \n",
    "    # Handling the end case (last mini-batch < mini_batch_size)\n",
    "    if m % mini_batch_size != 0:\n",
    "        mini_batch_X = shuffled_X[:, num_complete_minibatches * mini_batch_size : m]\n",
    "        mini_batch_Y = shuffled_Y[:, num_complete_minibatches * mini_batch_size : m]\n",
    "        mini_batch = (mini_batch_X, mini_batch_Y)\n",
    "        mini_batches.append(mini_batch)\n",
    "    \n",
    "    return mini_batches"
   ]
  },
  {
   "cell_type": "code",
   "execution_count": null,
   "metadata": {},
   "outputs": [],
   "source": [
    "def model(X_train, Y_train, learning_rate = 0.00001,\n",
    "          num_epochs = 10000, minibatch_size = 32, print_cost = True):\n",
    "    \"\"\"\n",
    "    Three-layer tensorflow neural network: LINEAR->RELU->LINEAR->RELU->LINEAR\n",
    "    \n",
    "    Returns:\n",
    "    parameters -- parameters learnt by the model. They can then be used to predict.\n",
    "    \"\"\"\n",
    "    \n",
    "    ops.reset_default_graph()                         # to be able to rerun the model without overwriting tf variables\n",
    "    \n",
    "    seed = 3                                          # to create random minibatches \n",
    "    \n",
    "    (n_x, m) = X_train.shape                          # (n_x: input size, m : number of examples in the train set)\n",
    "    costs = []                                        # To keep track of the cost\n",
    "    \n",
    "\n",
    "    X, Y = create_placeholders(n_x)\n",
    "    parameters = initialize_parameters()\n",
    "    \n",
    "    # Forward propagation: Build the forward propagation in the tensorflow graph\n",
    "    Z3 = forward_propagation(X, parameters)\n",
    "    \n",
    "    # Cost function: Add cost function to tensorflow graph\n",
    "    cost = compute_cost(Z3, Y)\n",
    "    \n",
    "    # Backpropagation: Define the tensorflow optimizer. Use an AdamOptimizer.\n",
    "    optimizer = tf.train.AdamOptimizer(learning_rate = learning_rate).minimize(cost)\n",
    "    \n",
    "    # Initialize all the variables\n",
    "    init = tf.global_variables_initializer()\n",
    "\n",
    "    # Start the session to compute the tensorflow graph\n",
    "    with tf.Session(config = config) as sess:\n",
    "        \n",
    "        # Run the initialization\n",
    "        sess.run(init)\n",
    "        \n",
    "        # Do the training loop\n",
    "        for epoch in range(num_epochs):\n",
    "\n",
    "            epoch_cost = 0.                       # Defines a cost related to an epoch\n",
    "            num_minibatches = int(m / minibatch_size) # number of minibatches of size minibatch_size in the train set\n",
    "            \n",
    "            seed += 1\n",
    "            minibatches = random_mini_batches(X_train, Y_train, minibatch_size, seed)\n",
    "\n",
    "            for minibatch in minibatches:\n",
    "\n",
    "                # Select a minibatch\n",
    "                (minibatch_X, minibatch_Y) = minibatch\n",
    "                \n",
    "                # The line that runs the graph on a minibatch.\n",
    "                _ , minibatch_cost = sess.run([optimizer, cost], feed_dict={X: minibatch_X, Y: minibatch_Y})\n",
    "                \n",
    "                epoch_cost += minibatch_cost / num_minibatches\n",
    "\n",
    "            # Print the cost every epoch\n",
    "            if print_cost == True and epoch % 100 == 0:\n",
    "                print (\"Cost after epoch %i: %f\" % (epoch, epoch_cost))\n",
    "            if print_cost == True and epoch % 5 == 0:\n",
    "                costs.append(epoch_cost)\n",
    "                \n",
    "        # plot the cost\n",
    "        plt.plot(np.squeeze(costs))\n",
    "        plt.ylabel('cost')\n",
    "        plt.xlabel('iterations (per five)')\n",
    "        plt.title(\"Learning rate =\" + str(learning_rate))\n",
    "        plt.show()\n",
    "\n",
    "        # lets save the parameters in a variable\n",
    "        parameters = sess.run(parameters)\n",
    "        print (\"Parameters have been trained!\")\n",
    "        \n",
    "        return parameters"
   ]
  },
  {
   "cell_type": "code",
   "execution_count": null,
   "metadata": {},
   "outputs": [],
   "source": [
    "parameters_normalized = model(normalized_train_x, train_y)\n",
    "\n",
    "# TODO: сравнивать с dev set error\n",
    "# TODO: Consider early stopping, add second graph with performance on the dev set - too early"
   ]
  },
  {
   "cell_type": "code",
   "execution_count": null,
   "metadata": {},
   "outputs": [],
   "source": [
    "parameters_without = model(train_x, train_y)"
   ]
  },
  {
   "cell_type": "code",
   "execution_count": null,
   "metadata": {},
   "outputs": [],
   "source": [
    "def predict(X, parameters):\n",
    "    W1 = tf.convert_to_tensor(parameters[\"W1\"])\n",
    "    b1 = tf.convert_to_tensor(parameters[\"b1\"])\n",
    "    W2 = tf.convert_to_tensor(parameters[\"W2\"])\n",
    "    b2 = tf.convert_to_tensor(parameters[\"b2\"])\n",
    "    W3 = tf.convert_to_tensor(parameters[\"W3\"])\n",
    "    b3 = tf.convert_to_tensor(parameters[\"b3\"])\n",
    "    \n",
    "    params = {\"W1\": W1, \"b1\": b1, \"W2\": W2, \"b2\": b2, \"W3\": W3, \"b3\": b3}\n",
    "    \n",
    "    # only 2 parameters for now\n",
    "    x = tf.placeholder(\"float\", [2, None])\n",
    "    z3 = forward_propagation(x, params)\n",
    "    \n",
    "    sess = tf.Session()\n",
    "    predictions = sess.run(z3, feed_dict = {x: X})\n",
    "    \n",
    "    return predictions"
   ]
  },
  {
   "cell_type": "code",
   "execution_count": null,
   "metadata": {},
   "outputs": [],
   "source": [
    "# TODO: Model evaluation\n",
    "\n",
    "# Calculate accuracy on the test set\n",
    "# accuracy = tf.reduce_mean(tf.cast(correct_prediction, \"float\"))\n",
    "\n",
    "# print (\"Train Accuracy:\", accuracy.eval({X: X_train, Y: Y_train}))\n",
    "# print (\"Test Accuracy:\", accuracy.eval({X: X_test, Y: Y_test}))\n",
    "\n",
    "# Calculate RMSE and R^2\n",
    "\n",
    "# TODO:\n",
    "# def evaluate_model(X_test, Y_test):"
   ]
  },
  {
   "cell_type": "code",
   "execution_count": null,
   "metadata": {},
   "outputs": [],
   "source": [
    "def predict_row(original_matrix, row_idx, model_to_use):\n",
    "    return predict(np.atleast_2d([original_matrix[row_idx - 1, ], original_matrix[row_idx + 1, ]]), model_to_use)"
   ]
  },
  {
   "cell_type": "code",
   "execution_count": null,
   "metadata": {},
   "outputs": [],
   "source": [
    "# Restoring Hi-C matrix with NN predictions\n",
    "def restore_hic(original_matrix, model_to_use):\n",
    "    predicted_matrix = np.copy(original_matrix)\n",
    "    \n",
    "    for i in range(1, original_matrix.shape[0] - 1):\n",
    "        predicted_matrix[i, ] = predict_row(original_matrix, i, model_to_use)\n",
    "        print(f\"Row {i} is predicted\")\n",
    "    \n",
    "    return predicted_matrix"
   ]
  },
  {
   "cell_type": "code",
   "execution_count": null,
   "metadata": {},
   "outputs": [],
   "source": [
    "for i in range(len(resulting_matrices)):\n",
    "    print(i, resulting_matrices[i].shape)"
   ]
  },
  {
   "cell_type": "code",
   "execution_count": null,
   "metadata": {},
   "outputs": [],
   "source": [
    "normalized_test_matrix, _, _ = min_max_normalize(resulting_matrices[0], old_min, old_max)\n",
    "predicted_matrix = restore_hic(normalized_test_matrix, parameters_normalized)\n",
    "\n",
    "# Don't show top and bottom rows (we can't predict them yet)\n",
    "plot_hic(resulting_matrices[0][1:-1, ])\n",
    "plot_hic(predicted_matrix[1:-1, ])"
   ]
  },
  {
   "cell_type": "code",
   "execution_count": null,
   "metadata": {},
   "outputs": [],
   "source": [
    "predicted_matrix = restore_hic(resulting_matrices[0], parameters_without)\n",
    "\n",
    "# Don't show top and bottom rows (we can't predict them yet)\n",
    "plot_hic(resulting_matrices[0][1:-1, ])\n",
    "plot_hic(predicted_matrix[1:-1, ])"
   ]
  },
  {
   "cell_type": "code",
   "execution_count": null,
   "metadata": {},
   "outputs": [],
   "source": [
    "#predicted_matrix = restore_hic(resulting_matrices[12])\n",
    "\n",
    "# Don't show top and bottom rows (we can't predict them yet)\n",
    "#plot_hic(min_max_denormalize(resulting_matrices[12][1:-1, ], old_max, old_min))\n",
    "#plot_hic(min_max_denormalize(predicted_matrix[1:-1, ], old_max, old_min))"
   ]
  },
  {
   "cell_type": "code",
   "execution_count": null,
   "metadata": {},
   "outputs": [],
   "source": [
    "plot_hic(resulting_matrices[15][1:-1, ])"
   ]
  },
  {
   "cell_type": "code",
   "execution_count": null,
   "metadata": {},
   "outputs": [],
   "source": [
    "normalized_test_matrix, _, _ = min_max_normalize(resulting_matrices[24], old_min, old_max)\n",
    "predicted_matrix = restore_hic(normalized_test_matrix, parameters_normalized)\n",
    "\n",
    "# Don't show top and bottom rows (we can't predict them yet)\n",
    "plot_hic(resulting_matrices[24][1:-1, ])\n",
    "plot_hic(predicted_matrix[1:-1, ])"
   ]
  },
  {
   "cell_type": "code",
   "execution_count": null,
   "metadata": {},
   "outputs": [],
   "source": [
    "predicted_matrix = restore_hic(resulting_matrices[24], parameters_without)\n",
    "\n",
    "# Don't show top and bottom rows (we can't predict them yet)\n",
    "plot_hic(resulting_matrices[24][1:-1, ])\n",
    "plot_hic(predicted_matrix[1:-1, ])"
   ]
  },
  {
   "cell_type": "code",
   "execution_count": null,
   "metadata": {},
   "outputs": [],
   "source": [
    "normalized_test_matrix, _, _ = min_max_normalize(resulting_matrices[21], old_min, old_max)\n",
    "predicted_matrix = restore_hic(normalized_test_matrix, parameters_normalized)\n",
    "\n",
    "# Don't show top and bottom rows (we can't predict them yet)\n",
    "plot_hic(resulting_matrices[21][1:-1, ])\n",
    "plot_hic(predicted_matrix[1:-1, ])"
   ]
  },
  {
   "cell_type": "code",
   "execution_count": null,
   "metadata": {},
   "outputs": [],
   "source": [
    "predicted_matrix = restore_hic(resulting_matrices[21], parameters_without)\n",
    "\n",
    "# Don't show top and bottom rows (we can't predict them yet)\n",
    "plot_hic(resulting_matrices[21][1:-1, ])\n",
    "plot_hic(predicted_matrix[1:-1, ])\n",
    "\n",
    "# TODO: построить распределение значение для predicted_matrix, как НС меняет распределение значений"
   ]
  },
  {
   "cell_type": "code",
   "execution_count": null,
   "metadata": {},
   "outputs": [],
   "source": [
    "# saves dict of NN parameters\n",
    "def save_parameters(params_to_save, file_name):\n",
    "    np.save(file_name, params_to_save) \n",
    "\n",
    "# loads dict of NN parameters\n",
    "def load_parameters(file_name):\n",
    "    return np.load(file_name).item()"
   ]
  },
  {
   "cell_type": "code",
   "execution_count": null,
   "metadata": {},
   "outputs": [],
   "source": [
    "# save the model\n",
    "save_parameters(parameters_normalized, 'parameters_normalized.npy')\n",
    "save_parameters(parameters_without, 'parameters_without.npy')"
   ]
  },
  {
   "cell_type": "code",
   "execution_count": null,
   "metadata": {},
   "outputs": [],
   "source": [
    "# restore the model and make prediction\n",
    "loaded_parameters = load_parameters('parameters_normalized.npy')\n",
    "\n",
    "normalized_test_matrix, _, _ = min_max_normalize(resulting_matrices[21], old_min, old_max)\n",
    "predicted_matrix = restore_hic(normalized_test_matrix, loaded_parameters)\n",
    "\n",
    "# Don't show top and bottom rows (we can't predict them yet)\n",
    "plot_hic(resulting_matrices[21][1:-1, ])\n",
    "plot_hic(predicted_matrix[1:-1, ])"
   ]
  },
  {
   "cell_type": "code",
   "execution_count": null,
   "metadata": {},
   "outputs": [],
   "source": [
    "# Second part of the work\n",
    "# Try deeper NN and the square of features"
   ]
  },
  {
   "cell_type": "code",
   "execution_count": null,
   "metadata": {},
   "outputs": [],
   "source": [
    "'''\n",
    "forms train and test subsets from one submatrix\n",
    "Version 2: The Square of neighboring features is considered\n",
    "\n",
    "square_size = 1 => 6 features\n",
    "\n",
    "    111\n",
    "    1*1\n",
    "    111\n",
    "\n",
    "square_size = 2 => 20 features\n",
    "\n",
    "    11111\n",
    "    11111\n",
    "    11*11\n",
    "    11111\n",
    "    11111\n",
    "\n",
    "'''\n",
    "def form_train_subset_v2(matrix, square_size):\n",
    "    square_h_w = square_size * 2 + 1\n",
    "    \n",
    "    # the submatrix is too small to form training set\n",
    "    if matrix.shape[0] < square_h_w or matrix.shape[1] < square_h_w:\n",
    "        return (None, None)\n",
    "    \n",
    "    number_of_features = (square_h_w * square_h_w) - square_h_w\n",
    "    \n",
    "    # This is a tunable parameter\n",
    "    stride = 2\n",
    "    row_submatrices = [matrix[i:i + square_h_w, ] for i in range(0, matrix.shape[0] - (square_h_w - 1), stride)]\n",
    "    \n",
    "    train_x = np.array([]).reshape(number_of_features, 0)\n",
    "    train_y = []\n",
    "    \n",
    "    for row_submatrice in row_submatrices:\n",
    "        \n",
    "        column_submatrices = [row_submatrice[:, i:i + square_h_w] for i in range(0, matrix.shape[1] - (square_h_w - 1), stride)]\n",
    "        \n",
    "        for column_submatrice in column_submatrices:\n",
    "            surrounding_square = np.delete(column_submatrice, (square_h_w // 2), axis = 0)\n",
    "            train_x = np.concatenate((train_x, surrounding_square.reshape((number_of_features, 1))), axis = 1)\n",
    "            \n",
    "            # train_x.append(np.delete(column_submatrice, (square_h_w // 2), axis = 0))\n",
    "            \n",
    "            # don't use center row elements for training - they will be empty in the test set\n",
    "            train_y.append(column_submatrice[(square_h_w // 2), :][square_h_w // 2])\n",
    "    \n",
    "    # x - features, y - labels\n",
    "    return (train_x, np.array(train_y))"
   ]
  },
  {
   "cell_type": "code",
   "execution_count": null,
   "metadata": {},
   "outputs": [],
   "source": [
    "# iterate over all resulting matrices and concatenate results of form_train_subset_v2 function results\n",
    "\n",
    "# relevant only for square_size = 2\n",
    "train_x_v2 = np.array([]).reshape(20, 0)\n",
    "train_y_v2 = np.array([]).reshape(0, )\n",
    "\n",
    "SQUARE_SIZE = 2\n",
    "\n",
    "for resulting_matrice in resulting_matrices:\n",
    "    temp_train_x_v2, temp_train_y_v2 = form_train_subset_v2(resulting_matrice, SQUARE_SIZE)\n",
    "    \n",
    "    if temp_train_x_v2 is not None and temp_train_y_v2 is not None:\n",
    "        train_x_v2 = np.concatenate((train_x_v2, temp_train_x_v2), axis = 1)\n",
    "        train_y_v2 = np.concatenate((train_y_v2, temp_train_y_v2))\n",
    "\n",
    "# to make 2D numpy array from the (m, ) vector\n",
    "train_y_v2 = np.atleast_2d(train_y_v2)\n",
    "\n",
    "print(train_x_v2.shape)\n",
    "print(train_y_v2.shape)\n",
    "\n",
    "normalized_train_x_v2, old_min_v2, old_max_v2 = min_max_normalize(train_x_v2)\n",
    "\n",
    "### Training set V2 formed ###"
   ]
  },
  {
   "cell_type": "code",
   "execution_count": null,
   "metadata": {},
   "outputs": [],
   "source": [
    "# TODO:\n",
    "\n",
    "# split dataset in train and validation\n",
    "# plot cost curve each epoch with both training and validation sets\n",
    "# and rmse and r^2(?)\n",
    "# add regularization to the model"
   ]
  },
  {
   "cell_type": "code",
   "execution_count": null,
   "metadata": {},
   "outputs": [],
   "source": [
    "### Model construction (Deep Neural Network) ###\n",
    "\n",
    "'''\n",
    "TODO: estimate optimal number of hidden layers / hidden units - experiments needed\n",
    "\n",
    "Andrew NG: \"Reasonable default is one hidden layer, or if > 1 hidden layer, \n",
    "have the same number of hidden units in every layer \n",
    "(usually the more the better, anywhere from about 1X to 4X the number of input units).\"\n",
    "\n",
    "https://stats.stackexchange.com/questions/99828/when-is-a-second-hidden-layer-needed-in-feed-forward-neural-networks\n",
    "'''\n",
    "def initialize_parameters_v2():\n",
    "    W1 = tf.get_variable(\"W1\", [80, 20], initializer = tf.contrib.layers.xavier_initializer())\n",
    "    b1 = tf.get_variable(\"b1\", [80, 1], initializer = tf.zeros_initializer())\n",
    "    \n",
    "    W2 = tf.get_variable(\"W2\", [80, 80], initializer = tf.contrib.layers.xavier_initializer())\n",
    "    b2 = tf.get_variable(\"b2\", [80, 1], initializer = tf.zeros_initializer())\n",
    "    \n",
    "    W3 = tf.get_variable(\"W3\", [80, 80], initializer = tf.contrib.layers.xavier_initializer())\n",
    "    b3 = tf.get_variable(\"b3\", [80, 1], initializer = tf.zeros_initializer())\n",
    "    \n",
    "    W4 = tf.get_variable(\"W4\", [80, 80], initializer = tf.contrib.layers.xavier_initializer())\n",
    "    b4 = tf.get_variable(\"b4\", [80, 1], initializer = tf.zeros_initializer())\n",
    "    \n",
    "    W5 = tf.get_variable(\"W5\", [1, 80], initializer = tf.contrib.layers.xavier_initializer())\n",
    "    b5 = tf.get_variable(\"b5\", [1, 1], initializer = tf.zeros_initializer())\n",
    "\n",
    "    parameters = {\"W1\": W1,\n",
    "                  \"b1\": b1,\n",
    "                  \"W2\": W2,\n",
    "                  \"b2\": b2,\n",
    "                  \"W3\": W3,\n",
    "                  \"b3\": b3,\n",
    "                  \"W4\": W4,\n",
    "                  \"b4\": b4,\n",
    "                  \"W5\": W5,\n",
    "                  \"b5\": b5}\n",
    "    \n",
    "    return parameters"
   ]
  },
  {
   "cell_type": "code",
   "execution_count": null,
   "metadata": {},
   "outputs": [],
   "source": [
    "def forward_propagation_v2(X, parameters):\n",
    "    W1 = parameters['W1']\n",
    "    b1 = parameters['b1']\n",
    "    W2 = parameters['W2']\n",
    "    b2 = parameters['b2']\n",
    "    W3 = parameters['W3']\n",
    "    b3 = parameters['b3']\n",
    "    W4 = parameters['W4']\n",
    "    b4 = parameters['b4']\n",
    "    W5 = parameters['W5']\n",
    "    b5 = parameters['b5']\n",
    "    \n",
    "    Z1 = tf.matmul(W1, X) + b1                                              \n",
    "    A1 = tf.nn.relu(Z1)                                              \n",
    "    \n",
    "    Z2 = tf.matmul(W2, A1) + b2                                             \n",
    "    A2 = tf.nn.relu(Z2)\n",
    "    \n",
    "    Z3 = tf.matmul(W3, A2) + b3                                              \n",
    "    A3 = tf.nn.relu(Z3)\n",
    "    \n",
    "    Z4 = tf.matmul(W4, A3) + b4                                             \n",
    "    A4 = tf.nn.relu(Z4)\n",
    "    \n",
    "    Z5 = tf.matmul(W5, A4) + b5                                             \n",
    "    \n",
    "    return Z5"
   ]
  },
  {
   "cell_type": "code",
   "execution_count": null,
   "metadata": {},
   "outputs": [],
   "source": [
    "def compute_cost_v2(Z5, Y):    \n",
    "    # MSE\n",
    "    cost = tf.reduce_mean(tf.square(Y - Z5))\n",
    "    \n",
    "    return cost"
   ]
  },
  {
   "cell_type": "code",
   "execution_count": null,
   "metadata": {},
   "outputs": [],
   "source": [
    "def model_v2(X_train, Y_train, learning_rate = 0.00001,\n",
    "          num_epochs = 1000, minibatch_size = 32, print_cost = True):\n",
    "    ops.reset_default_graph()                         # to be able to rerun the model without overwriting tf variables\n",
    "    \n",
    "    seed = 3                                          # to create random minibatches\n",
    "    \n",
    "    (n_x, m) = X_train.shape                          # (n_x: input size, m : number of examples in the train set)\n",
    "    costs = []                                        # To keep track of the cost\n",
    "\n",
    "    X, Y = create_placeholders(n_x)\n",
    "    parameters = initialize_parameters_v2()\n",
    "    \n",
    "    # Forward propagation: Build the forward propagation in the tensorflow graph\n",
    "    Z5 = forward_propagation_v2(X, parameters)\n",
    "    \n",
    "    # Cost function: Add cost function to tensorflow graph\n",
    "    cost = compute_cost_v2(Z5, Y)\n",
    "    \n",
    "    # Backpropagation: Define the tensorflow optimizer. Use an AdamOptimizer.\n",
    "    optimizer = tf.train.AdamOptimizer(learning_rate = learning_rate).minimize(cost)\n",
    "    \n",
    "    # Initialize all the variables\n",
    "    init = tf.global_variables_initializer()\n",
    "\n",
    "    # Start the session to compute the tensorflow graph\n",
    "    with tf.Session(config = config) as sess:\n",
    "        \n",
    "        # Run the initialization\n",
    "        sess.run(init)\n",
    "        \n",
    "        # Do the training loop\n",
    "        for epoch in range(num_epochs):\n",
    "\n",
    "            epoch_cost = 0.                       # Defines a cost related to an epoch\n",
    "            num_minibatches = int(m / minibatch_size) # number of minibatches of size minibatch_size in the train set\n",
    "            \n",
    "            seed += 1\n",
    "            minibatches = random_mini_batches(X_train, Y_train, minibatch_size, seed)\n",
    "\n",
    "            for minibatch in minibatches:\n",
    "\n",
    "                # Select a minibatch\n",
    "                (minibatch_X, minibatch_Y) = minibatch\n",
    "                \n",
    "                # The line that runs the graph on a minibatch.\n",
    "                _ , minibatch_cost = sess.run([optimizer, cost], feed_dict={X: minibatch_X, Y: minibatch_Y})\n",
    "                \n",
    "                epoch_cost += minibatch_cost / num_minibatches\n",
    "\n",
    "\n",
    "            print (\"Cost after epoch %i: %f\" % (epoch, epoch_cost))\n",
    "            costs.append(epoch_cost)\n",
    "                \n",
    "        # plot the cost\n",
    "        plt.plot(np.squeeze(costs))\n",
    "        plt.ylabel('cost')\n",
    "        plt.xlabel('iterations (per five)')\n",
    "        plt.title(\"Learning rate =\" + str(learning_rate))\n",
    "        plt.show()\n",
    "\n",
    "        # lets save the parameters in a variable\n",
    "        parameters = sess.run(parameters)\n",
    "        print (\"Parameters have been trained!\")\n",
    "        \n",
    "        return parameters"
   ]
  },
  {
   "cell_type": "code",
   "execution_count": null,
   "metadata": {},
   "outputs": [],
   "source": [
    "parameters_normalized_v2 = model_v2(normalized_train_x_v2, train_y_v2)"
   ]
  },
  {
   "cell_type": "code",
   "execution_count": null,
   "metadata": {},
   "outputs": [],
   "source": [
    "def predict_v2(X, parameters):\n",
    "    W1 = tf.convert_to_tensor(parameters[\"W1\"])\n",
    "    b1 = tf.convert_to_tensor(parameters[\"b1\"])\n",
    "    W2 = tf.convert_to_tensor(parameters[\"W2\"])\n",
    "    b2 = tf.convert_to_tensor(parameters[\"b2\"])\n",
    "    W3 = tf.convert_to_tensor(parameters[\"W3\"])\n",
    "    b3 = tf.convert_to_tensor(parameters[\"b3\"])\n",
    "    W4 = tf.convert_to_tensor(parameters[\"W4\"])\n",
    "    b4 = tf.convert_to_tensor(parameters[\"b4\"])\n",
    "    W5 = tf.convert_to_tensor(parameters[\"W5\"])\n",
    "    b5 = tf.convert_to_tensor(parameters[\"b5\"])\n",
    "    \n",
    "    params = {\"W1\": W1, \"b1\": b1, \"W2\": W2, \"b2\": b2, \"W3\": W3, \"b3\": b3,\n",
    "             \"W4\": W4, \"b4\": b4, \"W5\": W5, \"b5\": b5}\n",
    "    \n",
    "    # only 2 parameters for now\n",
    "    x = tf.placeholder(\"float\", [20, None])\n",
    "    z5 = forward_propagation_v2(x, params)\n",
    "    \n",
    "    sess = tf.Session()\n",
    "    predictions = sess.run(z5, feed_dict = {x: X})\n",
    "    \n",
    "    return predictions"
   ]
  },
  {
   "cell_type": "code",
   "execution_count": null,
   "metadata": {},
   "outputs": [],
   "source": [
    "def extract_row_features(matrix, square_h_w):\n",
    "    number_of_features = (square_h_w * square_h_w) - square_h_w\n",
    "    \n",
    "    train_x = np.array([]).reshape(number_of_features, 0)\n",
    "        \n",
    "    column_submatrices = [matrix[:, i:i + square_h_w] for i in range(0, matrix.shape[1] - (square_h_w - 1))]\n",
    "\n",
    "    for column_submatrice in column_submatrices:\n",
    "        surrounding_square = np.delete(column_submatrice, (square_h_w // 2), axis = 0)\n",
    "        train_x = np.concatenate((train_x, surrounding_square.reshape((number_of_features, 1))), axis = 1)\n",
    "\n",
    "    return train_x"
   ]
  },
  {
   "cell_type": "code",
   "execution_count": null,
   "metadata": {},
   "outputs": [],
   "source": [
    "'''\n",
    "For now we omit edge pixels, so predicted row becomes smaller than the original\n",
    "\n",
    "For future, we can try to predict edge pixels using zeros as the values for the non existing features\n",
    "'''\n",
    "def predict_row_v2(original_matrix, model_to_use, square_size, row_idx):\n",
    "    square_h_w = square_size * 2 + 1\n",
    "    \n",
    "    # check if submatrix can be obtained (not outside of bounds) - for rows and columns => return None if not\n",
    "    if row_idx < (square_h_w // 2) or original_matrix.shape[0] - (row_idx + 1) < (square_h_w // 2) or original_matrix.shape[1] < square_h_w:\n",
    "            return None\n",
    "    \n",
    "    # extract features for the given row\n",
    "    row_features = extract_row_features(original_matrix[(row_idx - (square_h_w // 2)):(row_idx + (square_h_w // 2)) + 1, :], \n",
    "                                        square_h_w)\n",
    "    \n",
    "    return predict_v2(row_features, model_to_use)"
   ]
  },
  {
   "cell_type": "code",
   "execution_count": null,
   "metadata": {},
   "outputs": [],
   "source": [
    "# Restoring Hi-C matrix with deep NN predictions\n",
    "def restore_hic_v2(original_matrix, model_to_use, square_size):\n",
    "    predicted_matrix = np.copy(original_matrix[2:-2, 2:-2])\n",
    "    \n",
    "    for i in range(0, predicted_matrix.shape[0]):\n",
    "        # TODO: check, maybe None is returned from the function\n",
    "        predicted_matrix[i, ] = predict_row_v2(original_matrix, model_to_use, square_size, i + square_size)\n",
    "        print(f\"Row {i} is predicted\")\n",
    "    \n",
    "    return predicted_matrix"
   ]
  },
  {
   "cell_type": "code",
   "execution_count": null,
   "metadata": {},
   "outputs": [],
   "source": [
    "def plot_two_hic_same_scale(original, predicted, use_log_scale = True):\n",
    "    fig = plt.figure(figsize=(20, 20))\n",
    "    \n",
    "    ax1 = fig.add_subplot(221)\n",
    "    ax2 = fig.add_subplot(222)\n",
    "    \n",
    "    ax1.set_title(\"Original\", fontsize=25, pad=50)\n",
    "    ax2.set_title(\"Predicted\", fontsize=25, pad=50)\n",
    "    \n",
    "    if use_log_scale:\n",
    "        # to get rid of possible -inf\n",
    "        masked_log10 = np.ma.masked_invalid(np.log10(original))\n",
    "        \n",
    "        v_min_value, v_max_value = np.min(masked_log10), np.max(masked_log10)\n",
    "        \n",
    "        im1 = ax1.matshow(np.log10(original), cmap='YlOrRd', vmin=v_min_value, vmax=v_max_value)\n",
    "        im2 = ax2.matshow(np.log10(predicted), cmap='YlOrRd', vmin=v_min_value, vmax=v_max_value)\n",
    "    \n",
    "        fig.colorbar(im1)\n",
    "    else:\n",
    "        v_min_value, v_max_value = np.min(original), np.max(original)\n",
    "        \n",
    "        im1 = ax1.matshow(original, cmap='YlOrRd', vmin=v_min_value, vmax=v_max_value)\n",
    "        im2 = ax2.matshow(predicted, cmap='YlOrRd', vmin=v_min_value, vmax=v_max_value)\n",
    "    \n",
    "        fig.colorbar(im1)"
   ]
  },
  {
   "cell_type": "code",
   "execution_count": null,
   "metadata": {},
   "outputs": [],
   "source": [
    "# restore the model and make prediction\n",
    "old_min = 0\n",
    "old_max = 13.328629427113079\n",
    "\n",
    "loaded_parameters = load_parameters('parameters_normalized_deep.npy')\n",
    "normalized_test_matrix, _, _ = min_max_normalize(resulting_matrices[21], old_min, old_max)\n",
    "\n",
    "# TODO: check, maybe None is returned from the function\n",
    "predicted_row_deep = predict_row_v2(normalized_test_matrix, loaded_parameters, SQUARE_SIZE, 5)\n",
    "        \n",
    "plot_two_hic_same_scale(resulting_matrices[21][5:6, 2:-2], predicted_row_deep[0:1, ], use_log_scale=False)"
   ]
  },
  {
   "cell_type": "code",
   "execution_count": null,
   "metadata": {},
   "outputs": [],
   "source": [
    "# Hi-C matrix restoration - not included in the course work\n",
    "restored_hic1 = restore_hic_v2(resulting_matrices[5001], loaded_parameters, SQUARE_SIZE)\n",
    "plot_two_hic_same_scale(resulting_matrices[5001][2:-2, 2:-2], restored_hic1)\n",
    "\n",
    "restored_hic2 = restore_hic_v2(resulting_matrices[5880], loaded_parameters, SQUARE_SIZE)\n",
    "plot_two_hic_same_scale(resulting_matrices[5880][2:-2, 2:-2], restored_hic2)"
   ]
  },
  {
   "cell_type": "code",
   "execution_count": null,
   "metadata": {},
   "outputs": [],
   "source": [
    "# TODO:\n",
    "\n",
    "# Don't restore the whole matrix. Restore only one row and compare with the real row\n",
    "# Try on different types of surrounding neighbours (dense -> sparse)\n",
    "# remove matrix restorations from the course work\n",
    "\n",
    "# Retrain all NNs (on central nervous system Hi-C? On 10.000 resolution Hi-C?)\n",
    "\n",
    "# Predict rows (sparse, dense) for shallow and deep NNs\n",
    "\n",
    "# TODO: scatter plot for 3 types of NNs\n",
    "# Add colab code here (commented out) + comment out all training and saving model code (also colab specific code)\n",
    "# Refactor all the code\n",
    "# Diagonal features for shallow network"
   ]
  },
  {
   "cell_type": "code",
   "execution_count": null,
   "metadata": {},
   "outputs": [],
   "source": [
    "# тренировочные матрицы слишком разреженные, увеличить порог вхождения, уменьшить тренировчное множество\n",
    "# уменьшить глубину нейронной сети - слишком глубокая?\n",
    "\n",
    "# stride = 1?"
   ]
  }
 ],
 "metadata": {
  "kernelspec": {
   "display_name": "Python 3",
   "language": "python",
   "name": "python3"
  },
  "language_info": {
   "codemirror_mode": {
    "name": "ipython",
    "version": 3
   },
   "file_extension": ".py",
   "mimetype": "text/x-python",
   "name": "python",
   "nbconvert_exporter": "python",
   "pygments_lexer": "ipython3",
   "version": "3.6.5"
  }
 },
 "nbformat": 4,
 "nbformat_minor": 2
}
