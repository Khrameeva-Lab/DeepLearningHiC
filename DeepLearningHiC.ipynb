{
 "cells": [
  {
   "cell_type": "code",
   "execution_count": 1,
   "metadata": {},
   "outputs": [],
   "source": [
    "# Notes:\n",
    "# матрица симметричная, не забывать, что может быть двойное включение\n",
    "# loss function modifyable\n",
    "# extract_good_regions - может быть другая\n",
    "# квадраты, которые мы не выбрали для validation set'а\n",
    "\n",
    "# Когда TASK_SIZE становится больше ~300, plt.imshow() начинает показывать не все nan - участки\n",
    "# Из-за этого кажется, что выбор хороших квадратов работает неправильно и выбирает хороший квадрат \"не до конца\"\n",
    "# Можно приблизить конкретный участок и убедиться, что там на самом деле есть маленький квадрат, окруженный nan'ами\n",
    "\n",
    "# по диагонали берутся данные дважды - обычные и зеркальные\n",
    "# если берем квадрат из одного из треугольников, надо брать такой же квадарт в другом из треугольников\n",
    "# квадраты ориентированы по разному. сверху до низу может быть градиент, другой квадрат может помочь нарушить эту зависимость\n",
    "# -1 дважды\n",
    "\n",
    "# фича - насколько далеко от диагонали находится квадратик\n",
    "# фичи - диагональный крест\n",
    "# Поговорить с Лемпицким - посмотреть его сетку\n",
    "\n",
    "# TODO:\n",
    "# 1) Выбирать квадрат из другого треугольника, если он был выбран в одном из треугольников\n",
    "\n",
    "# Plans:\n",
    "# 1) Important: We should try to normalize whole matrix (X and Y), then we should denormalize results +\n",
    "# 2) Train on more data\n",
    "# 3) Try different features\n",
    "# 4) Add more layers\n",
    "# 5) Scatter plot?\n",
    "# 6) Offset in matrix prediction - bug?\n",
    "# 7) Try to change cost function. Maybe MSE is not enough?\n",
    "# 8) попробовать брать значения только из одного треугольника"
   ]
  },
  {
   "cell_type": "code",
   "execution_count": 2,
   "metadata": {},
   "outputs": [
    {
     "name": "stderr",
     "output_type": "stream",
     "text": [
      "/anaconda3/lib/python3.6/site-packages/h5py/__init__.py:36: FutureWarning: Conversion of the second argument of issubdtype from `float` to `np.floating` is deprecated. In future, it will be treated as `np.float64 == np.dtype(float).type`.\n",
      "  from ._conv import register_converters as _register_converters\n"
     ]
    }
   ],
   "source": [
    "import matplotlib.pyplot as plt\n",
    "import numpy as np\n",
    "import pandas\n",
    "import h5py\n",
    "import random\n",
    "\n",
    "import math\n",
    "import tensorflow as tf\n",
    "from tensorflow.python.framework import ops\n",
    "\n",
    "import cooler"
   ]
  },
  {
   "cell_type": "code",
   "execution_count": 3,
   "metadata": {},
   "outputs": [],
   "source": [
    "# the following directive activates inline plotting\n",
    "%matplotlib inline\n",
    "\n",
    "# allow to allocate resources for model training\n",
    "config = tf.ConfigProto()\n",
    "config.gpu_options.allow_growth = True"
   ]
  },
  {
   "cell_type": "code",
   "execution_count": 4,
   "metadata": {},
   "outputs": [],
   "source": [
    "# constants\n",
    "TASK_SIZE = 100\n",
    "\n",
    "# TODO: вынести в константы все остальные параметры (defect thresh, number of coin tosses, sigma\n",
    "# + константы, относящиеся к нейронной сети)"
   ]
  },
  {
   "cell_type": "code",
   "execution_count": 5,
   "metadata": {},
   "outputs": [],
   "source": [
    "def plot_hic(matrix):\n",
    "    fig = plt.figure(figsize=(10, 10))\n",
    "    ax = fig.add_subplot(111)\n",
    "    im = ax.matshow(np.log10(matrix), cmap='YlOrRd')\n",
    "    fig.colorbar(im)"
   ]
  },
  {
   "cell_type": "code",
   "execution_count": 6,
   "metadata": {},
   "outputs": [],
   "source": [
    "def mark_nans_as_zeros(matrix):\n",
    "    # we think NaN == 0 for now\n",
    "    matrix[np.isnan(matrix)] = 0"
   ]
  },
  {
   "cell_type": "code",
   "execution_count": 7,
   "metadata": {},
   "outputs": [],
   "source": [
    "def mark_defective_as_nan(matrix):\n",
    "    # row or column is considered to be defective if less than 5% of values are non-zero\n",
    "    # Since we work with the small and relatively good region of the entire Hi-C map, threshold is set to 20%\n",
    "    # Don't forget to set back to 5% when working with the entire map, because leaving 20% clears all the map\n",
    "    DEFECT_THRESHOLD = 20\n",
    "    \n",
    "    # non-zero values will give True\n",
    "    boolean_matrix = matrix != 0\n",
    "    \n",
    "    defective_rows = np.where(np.sum(boolean_matrix, axis = 1) < ((TASK_SIZE / 100) * DEFECT_THRESHOLD))\n",
    "    defective_columns = np.where(np.sum(boolean_matrix, axis = 0) < ((TASK_SIZE / 100) * DEFECT_THRESHOLD))\n",
    "    \n",
    "    # place nan value for all defective rows\n",
    "    for defective_row in defective_rows:\n",
    "        matrix[defective_row, :] = np.nan\n",
    "        \n",
    "    for defective_column in defective_columns:\n",
    "        matrix[:, defective_column] = np.nan\n",
    "        "
   ]
  },
  {
   "cell_type": "code",
   "execution_count": 8,
   "metadata": {},
   "outputs": [],
   "source": [
    "# function drops a coin pseudo randomly somewhere on the hi-c map \n",
    "# to select the region that will get into the training set\n",
    "# The coin is not fair, it extracts regions near the diagonal more frequently\n",
    "def _coin_toss():\n",
    "    # sigma is a tunable parameter\n",
    "    # sigma is smaller => selected segments are closer to the diagonal\n",
    "    sigma = int(TASK_SIZE/10)\n",
    "\n",
    "    result = []\n",
    "    for coordinate in np.random.normal(random.randint(sigma, TASK_SIZE - sigma), sigma, 2):\n",
    "        if coordinate < TASK_SIZE:\n",
    "            if coordinate >= 0:\n",
    "                result.append(int(coordinate))\n",
    "            else:\n",
    "                result.append(0)\n",
    "        else:\n",
    "            result.append(TASK_SIZE - 1)\n",
    "    \n",
    "    return result"
   ]
  },
  {
   "cell_type": "code",
   "execution_count": 9,
   "metadata": {},
   "outputs": [],
   "source": [
    "def _search_edges(extraction_matrix, coin_xy):\n",
    "    upper_left = [coin_xy[0], coin_xy[1]]\n",
    "    \n",
    "    while upper_left[0] - 1 >= 0 and extraction_matrix[upper_left[0] - 1][upper_left[1]] == 0: \n",
    "        upper_left[0] -= 1\n",
    "    \n",
    "    while upper_left[1] - 1 >= 0 and extraction_matrix[upper_left[0]][upper_left[1] - 1] == 0:\n",
    "        upper_left[1] -= 1\n",
    "                                                       \n",
    "    lower_right = [coin_xy[0], coin_xy[1]]\n",
    "    \n",
    "    while lower_right[0] + 1 < TASK_SIZE and extraction_matrix[lower_right[0] + 1][lower_right[1]] == 0:\n",
    "        lower_right[0] += 1\n",
    "    \n",
    "    while lower_right[1] + 1 < TASK_SIZE and extraction_matrix[lower_right[0]][lower_right[1] + 1] == 0:\n",
    "        lower_right[1] += 1\n",
    "        \n",
    "    return upper_left, lower_right\n",
    "                                        "
   ]
  },
  {
   "cell_type": "code",
   "execution_count": 92,
   "metadata": {},
   "outputs": [],
   "source": [
    "def extract_good_regions(matrix):\n",
    "    # TODO: this value is hardcoded for now, but it should be computed dynamically\n",
    "    # This number will depend on: number of good regions, good region to bad region ratio (good region density),\n",
    "    # map size (?), tunable parameter C (human can tune this parameter looking at the visualization)\n",
    "    # The number of good regions can be estimated by the number of defect intersections\n",
    "    number_of_tosses = 30\n",
    "    extraction_matrix = np.isnan(matrix).astype(int)\n",
    "    resulting_matrices = []\n",
    "    \n",
    "    for i in range(number_of_tosses):\n",
    "        x_y = _coin_toss()\n",
    "        \n",
    "        if extraction_matrix[x_y[0]][x_y[1]] == 0:\n",
    "            upper_left, lower_right = _search_edges(extraction_matrix, x_y)\n",
    "            resulting_matrices.append(matrix[upper_left[0]:(lower_right[0] + 1), upper_left[1]:(lower_right[1] + 1)])\n",
    "        \n",
    "            # -1 where extraction happened\n",
    "            extraction_matrix[upper_left[0]:(lower_right[0] + 1), upper_left[1]:(lower_right[1] + 1)] = -1\n",
    "            \n",
    "    return resulting_matrices, extraction_matrix"
   ]
  },
  {
   "cell_type": "code",
   "execution_count": 93,
   "metadata": {},
   "outputs": [],
   "source": [
    "# import hi-c data (drosophila embryo)\n",
    "filepath = \"Kc167.10000.cool\"\n",
    "c = cooler.Cooler(filepath)\n",
    "\n",
    "# TODO (future): train на одной хромосоме, test на другой хромосоме\n",
    "# получаем карту контактов для одной хромосомы, нам не нужны межхромосомные взаимодействия\n",
    "arr = c.matrix().fetch(\"chr2L\")\n",
    "\n",
    "current_matrix = arr[0:TASK_SIZE, 0:TASK_SIZE]"
   ]
  },
  {
   "cell_type": "code",
   "execution_count": 94,
   "metadata": {},
   "outputs": [
    {
     "name": "stderr",
     "output_type": "stream",
     "text": [
      "/anaconda3/lib/python3.6/site-packages/ipykernel_launcher.py:4: RuntimeWarning: divide by zero encountered in log10\n",
      "  after removing the cwd from sys.path.\n"
     ]
    },
    {
     "data": {
      "image/png": "[encoded data removed]",
      "text/plain": [
       "<Figure size 720x720 with 2 Axes>"
      ]
     },
     "metadata": {},
     "output_type": "display_data"
    }
   ],
   "source": [
    "# plots before data cleaning\n",
    "plot_hic(current_matrix)"
   ]
  },
  {
   "cell_type": "code",
   "execution_count": 95,
   "metadata": {},
   "outputs": [
    {
     "data": {
      "text/plain": [
       "<matplotlib.image.AxesImage at 0x1c35e0d860>"
      ]
     },
     "execution_count": 95,
     "metadata": {},
     "output_type": "execute_result"
    },
    {
     "data": {
      "image/png": "[encoded data removed]",
      "text/plain": [
       "<Figure size 432x288 with 1 Axes>"
      ]
     },
     "metadata": {},
     "output_type": "display_data"
    }
   ],
   "source": [
    "plt.imshow(np.isnan(current_matrix))"
   ]
  },
  {
   "cell_type": "code",
   "execution_count": 96,
   "metadata": {},
   "outputs": [],
   "source": [
    "# clean the data\n",
    "mark_nans_as_zeros(current_matrix)\n",
    "mark_defective_as_nan(current_matrix)"
   ]
  },
  {
   "cell_type": "code",
   "execution_count": 97,
   "metadata": {},
   "outputs": [
    {
     "name": "stderr",
     "output_type": "stream",
     "text": [
      "/anaconda3/lib/python3.6/site-packages/ipykernel_launcher.py:4: RuntimeWarning: divide by zero encountered in log10\n",
      "  after removing the cwd from sys.path.\n"
     ]
    },
    {
     "data": {
      "image/png": "[encoded data removed]",
      "text/plain": [
       "<Figure size 720x720 with 2 Axes>"
      ]
     },
     "metadata": {},
     "output_type": "display_data"
    }
   ],
   "source": [
    "# plots after data cleaning\n",
    "plot_hic(current_matrix)"
   ]
  },
  {
   "cell_type": "code",
   "execution_count": 98,
   "metadata": {},
   "outputs": [
    {
     "data": {
      "text/plain": [
       "<matplotlib.image.AxesImage at 0x1c3770b0b8>"
      ]
     },
     "execution_count": 98,
     "metadata": {},
     "output_type": "execute_result"
    },
    {
     "data": {
      "image/png": "[encoded data removed]",
      "text/plain": [
       "<Figure size 432x288 with 1 Axes>"
      ]
     },
     "metadata": {},
     "output_type": "display_data"
    }
   ],
   "source": [
    "plt.imshow(np.isnan(current_matrix))"
   ]
  },
  {
   "cell_type": "code",
   "execution_count": 99,
   "metadata": {},
   "outputs": [],
   "source": [
    "# разброс между значениями в матрице очень большой (0...20)\n",
    "# из-за этого нейронная сеть не учится распознавать разницу меджу маленькими значениями\n",
    "# поэтому мы нормализуем матрицу чтобы привести все значения в диапазон 0...1\n",
    "def normalize(matrix):\n",
    "    matrix_max = np.nanmax(matrix)\n",
    "    matrix_min = np.nanmin(matrix)\n",
    "    \n",
    "    return (matrix - matrix_min) / (matrix_max - matrix_min), matrix_max, matrix_min\n",
    "\n",
    "def denormalize(matrix, old_max, old_min):\n",
    "    return matrix * (old_max - old_min) + old_min\n",
    "\n",
    "normalized_matrix, old_max, old_min = normalize(current_matrix)"
   ]
  },
  {
   "cell_type": "code",
   "execution_count": 124,
   "metadata": {},
   "outputs": [],
   "source": [
    "resulting_matrices, visualization_matrix = extract_good_regions(normalized_matrix)"
   ]
  },
  {
   "cell_type": "code",
   "execution_count": 125,
   "metadata": {},
   "outputs": [
    {
     "data": {
      "text/plain": [
       "<matplotlib.image.AxesImage at 0x1c38b7b860>"
      ]
     },
     "execution_count": 125,
     "metadata": {},
     "output_type": "execute_result"
    },
    {
     "data": {
      "image/png": "[encoded data removed]",
      "text/plain": [
       "<Figure size 432x288 with 1 Axes>"
      ]
     },
     "metadata": {},
     "output_type": "display_data"
    }
   ],
   "source": [
    "plt.imshow(visualization_matrix)"
   ]
  },
  {
   "cell_type": "code",
   "execution_count": 126,
   "metadata": {},
   "outputs": [
    {
     "name": "stderr",
     "output_type": "stream",
     "text": [
      "/anaconda3/lib/python3.6/site-packages/ipykernel_launcher.py:4: RuntimeWarning: divide by zero encountered in log10\n",
      "  after removing the cwd from sys.path.\n"
     ]
    },
    {
     "data": {
      "image/png": "[encoded data removed]",
      "text/plain": [
       "<Figure size 720x720 with 2 Axes>"
      ]
     },
     "metadata": {},
     "output_type": "display_data"
    }
   ],
   "source": [
    "plot_hic(resulting_matrices[0])"
   ]
  },
  {
   "cell_type": "code",
   "execution_count": 127,
   "metadata": {},
   "outputs": [],
   "source": [
    "# forms train and test subsets from one submatrix\n",
    "# Version 1: Only upper and lower cells are considered\n",
    "# TODO: Square feature selection\n",
    "def form_train_subset_v1(matrix):\n",
    "    # this is a tunable parameter\n",
    "    # could be 4 or much more\n",
    "    # only 2 neighboring cells for training for now\n",
    "    number_of_features = 2\n",
    "    \n",
    "    # the submatrix is too small to form training set\n",
    "    if matrix.shape[0] < (number_of_features + 1):\n",
    "        return (None, None)\n",
    "    \n",
    "    cut_indices = np.arange((number_of_features + 1), matrix.shape[0], step = (number_of_features + 1))\n",
    "    \n",
    "    submatrices = np.split(matrix, cut_indices)\n",
    "    \n",
    "    # first train_x and train_y (outside of the loop)\n",
    "    train_x = np.delete(submatrices[0], (number_of_features // 2), axis = 0)\n",
    "    train_y = submatrices[0][(number_of_features // 2), :]\n",
    "    \n",
    "    for submatrice in submatrices[1:]:\n",
    "        # if clause to avoid the last not full chunk\n",
    "        if submatrice.shape[0] == (number_of_features + 1):\n",
    "            # (number_of_features / 2) - center position (label values)\n",
    "            train_x = np.concatenate((train_x, np.delete(submatrice, (number_of_features // 2), axis = 0)), axis = 1)\n",
    "            train_y = np.concatenate((train_y, submatrice[(number_of_features // 2), ]))\n",
    "        \n",
    "    # x - features, y - labels\n",
    "    return (train_x, train_y.T)"
   ]
  },
  {
   "cell_type": "code",
   "execution_count": 128,
   "metadata": {},
   "outputs": [
    {
     "name": "stdout",
     "output_type": "stream",
     "text": [
      "One of the good matrices:\n",
      "[[1.00000000e+00 1.17999493e-02 1.65785322e-03 ... 0.00000000e+00\n",
      "  4.12812774e-04 0.00000000e+00]\n",
      " [1.17999493e-02 2.13847978e-02 4.00093353e-03 ... 6.68737548e-05\n",
      "  1.47592610e-04 9.42067418e-05]\n",
      " [1.65785322e-03 4.00093353e-03 3.21250274e-01 ... 4.26154750e-05\n",
      "  1.64594109e-04 0.00000000e+00]\n",
      " ...\n",
      " [0.00000000e+00 6.68737548e-05 4.26154750e-05 ... 2.11772291e-02\n",
      "  4.69025713e-03 2.62798861e-03]\n",
      " [4.12812774e-04 1.47592610e-04 1.64594109e-04 ... 4.69025713e-03\n",
      "  7.31576181e-02 4.86577084e-03]\n",
      " [0.00000000e+00 9.42067418e-05 0.00000000e+00 ... 2.62798861e-03\n",
      "  4.86577084e-03 1.09336394e-01]]\n",
      "Train x from this matrix:\n",
      "[[1.00000000e+00 1.17999493e-02 1.65785322e-03 8.98615382e-04\n",
      "  3.44613798e-04 1.58115739e-03 1.37177095e-03 5.01899546e-04\n",
      "  4.06034634e-04 0.00000000e+00 3.11161926e-04 0.00000000e+00\n",
      "  0.00000000e+00 1.18803862e-04 0.00000000e+00 3.00209584e-04\n",
      "  2.68498475e-04 0.00000000e+00 1.06126839e-04 3.48240715e-04\n",
      "  0.00000000e+00 0.00000000e+00 3.02796102e-04 2.38262763e-04\n",
      "  0.00000000e+00 0.00000000e+00 0.00000000e+00 0.00000000e+00\n",
      "  0.00000000e+00 0.00000000e+00 0.00000000e+00 0.00000000e+00\n",
      "  4.12812774e-04 0.00000000e+00 8.98615382e-04 1.89847991e-03\n",
      "  5.14635107e-03 2.05441121e-02 4.71235657e-03 3.66981190e-03\n",
      "  2.79214264e-03 1.04524696e-03 6.70098445e-04 4.41435043e-04\n",
      "  4.89071868e-04 2.42204146e-04 2.76812202e-04 2.61423621e-04\n",
      "  2.15453953e-04 1.17964354e-04 1.47705307e-04 1.72387986e-04\n",
      "  1.08423848e-04 1.18592679e-04 8.12100183e-05 8.58486445e-05\n",
      "  2.37961400e-05 5.61737819e-05 1.13904543e-04 8.22584116e-05\n",
      "  9.79709615e-05 1.23659586e-04 9.61779489e-05 8.98116415e-05\n",
      "  5.84382216e-05 9.23964094e-05 8.11053255e-05 6.21223661e-05\n",
      "  1.37177095e-03 1.14029191e-03 2.57063619e-03 2.79214264e-03\n",
      "  3.54718580e-03 4.72954578e-03 4.40433539e-02 5.41453589e-03\n",
      "  1.04485100e-03 7.41254332e-04 5.13278576e-04 2.61454719e-04\n",
      "  1.99208967e-04 3.91946906e-04 2.65311656e-04 2.77318770e-04\n",
      "  2.30309501e-04 1.11335608e-04 1.68059532e-04 1.53184550e-04\n",
      "  1.36367239e-04 1.68182448e-04 3.99582954e-05 9.43265829e-05\n",
      "  1.19542271e-04 1.15106410e-04 1.09674724e-04 1.61504176e-04\n",
      "  4.03753182e-05 7.54055091e-05 7.85032100e-05 1.41046673e-04\n",
      "  5.44765757e-05 1.04315400e-04 0.00000000e+00 4.32335859e-04\n",
      "  3.73267759e-04 4.41435043e-04 5.17268229e-04 3.95555106e-04\n",
      "  7.41254332e-04 2.09056143e-03 6.03366811e-03 5.83866411e-02\n",
      "  6.91243896e-03 2.51127363e-03 1.43505220e-03 7.84632653e-04\n",
      "  8.09304827e-04 9.46295970e-04 6.04527728e-04 2.27946570e-04\n",
      "  3.82313483e-04 5.05288521e-04 4.89189380e-04 4.37249259e-04\n",
      "  2.72699708e-04 2.86107540e-04 1.63165831e-04 7.85556146e-05\n",
      "  1.87121753e-04 1.83700452e-04 1.37772863e-04 1.71537684e-04\n",
      "  2.00907617e-04 1.12301965e-04 1.85890641e-04 1.18651954e-04\n",
      "  0.00000000e+00 1.79904671e-04 2.00628263e-04 2.76812202e-04\n",
      "  0.00000000e+00 1.02051611e-04 1.99208967e-04 6.07383288e-04\n",
      "  7.86192865e-04 1.43505220e-03 2.71122140e-03 9.80372580e-03\n",
      "  5.07615291e-01 7.30365594e-03 1.41557532e-03 2.90643474e-04\n",
      "  5.84871372e-04 4.90077413e-04 4.62353093e-04 3.37144104e-04\n",
      "  4.23261467e-04 2.64395000e-04 0.00000000e+00 0.00000000e+00\n",
      "  8.77002538e-05 0.00000000e+00 2.01152719e-04 8.46320906e-05\n",
      "  0.00000000e+00 0.00000000e+00 7.19907633e-05 1.55214917e-04\n",
      "  9.99146471e-05 0.00000000e+00 3.00209584e-04 2.14667369e-04\n",
      "  0.00000000e+00 1.17964354e-04 1.99050046e-04 2.43541768e-04\n",
      "  2.77318770e-04 2.17424103e-04 9.38107682e-04 9.46295970e-04\n",
      "  1.12330086e-03 8.26495093e-04 2.90643474e-04 2.43606309e-03\n",
      "  5.88547426e-03 2.60276445e-01 3.91591113e-03 1.36447338e-03\n",
      "  1.34858254e-03 1.13982147e-03 9.64181815e-04 3.68064237e-04\n",
      "  3.49792019e-04 4.12864032e-04 1.04646436e-04 1.00763317e-04\n",
      "  8.00070479e-05 3.53448959e-04 8.83606516e-05 1.65023589e-04\n",
      "  8.59014257e-05 3.08678086e-05 1.19220998e-04 0.00000000e+00\n",
      "  1.06126839e-04 1.32802044e-04 2.53885349e-04 1.08423848e-04\n",
      "  1.75915039e-04 9.68560281e-05 1.68059532e-04 2.56204710e-04\n",
      "  3.10902809e-04 3.82313483e-04 4.44748805e-04 3.37123373e-04\n",
      "  4.62353093e-04 5.70070699e-04 8.95670998e-04 1.34858254e-03\n",
      "  1.90514016e-03 2.85105575e-03 3.73046145e-02 6.38774189e-03\n",
      "  2.88908501e-03 1.72865851e-03 1.70025191e-03 1.31356097e-03\n",
      "  1.05431402e-03 4.80880205e-04 3.95965146e-04 2.14195622e-04\n",
      "  3.43599302e-04 2.91686756e-04 1.21467765e-04 9.82084793e-05\n",
      "  1.47510004e-04 1.07604589e-04 0.00000000e+00 8.13668409e-05\n",
      "  1.45183450e-04 8.58486445e-05 0.00000000e+00 1.10773562e-04\n",
      "  1.68182448e-04 3.95576374e-04 4.62250581e-04 4.37249259e-04\n",
      "  5.99487546e-04 3.08452516e-04 2.64395000e-04 3.53737016e-04\n",
      "  5.60203798e-04 3.68064237e-04 6.58371296e-04 7.83166878e-04\n",
      "  1.72865851e-03 2.52104737e-03 4.02354527e-03 6.06190466e-02\n",
      "  4.82605982e-03 3.21327524e-03 2.22123185e-03 4.88870515e-04\n",
      "  3.39646927e-04 4.59326318e-04 2.67935536e-04 5.00400156e-04\n",
      "  1.30239219e-04 1.12320351e-04 2.53059241e-04 4.61499810e-05\n",
      "  0.00000000e+00 1.13355959e-04 1.44472763e-04 1.13904543e-04\n",
      "  0.00000000e+00 9.18594293e-05 1.19542271e-04 2.84295548e-04\n",
      "  2.47685749e-04 1.63165831e-04 1.89812317e-04 2.30206959e-04\n",
      "  8.77002538e-05 2.07062024e-04 2.07057146e-04 1.04646436e-04\n",
      "  4.67963219e-04 4.55836401e-04 1.05431402e-03 8.90186212e-04\n",
      "  1.32999849e-03 2.22123185e-03 3.16644118e-03 5.97982620e-03\n",
      "  5.80377043e-02 2.52360176e-03 1.08637818e-03 8.22740169e-04\n",
      "  7.99871898e-04 3.98360520e-04 1.03681349e-04 1.86284221e-04\n",
      "  3.23769204e-04 1.83696290e-04 0.00000000e+00 1.25017417e-04\n",
      "  6.97092164e-05 1.23659586e-04 2.31844484e-04 5.31874552e-05\n",
      "  1.61504176e-04 1.26622877e-04 1.70728963e-04 1.83700452e-04\n",
      "  2.35506598e-04 2.22153248e-04 8.46320906e-05 1.79836227e-04\n",
      "  1.84443068e-04 3.53448959e-04 2.25795843e-04 2.27039546e-04\n",
      "  2.14195622e-04 2.73331976e-04 2.27280961e-04 4.59326318e-04\n",
      "  7.12988343e-04 6.81254226e-04 8.22740169e-04 3.13950172e-03\n",
      "  4.26337790e-03 5.33127347e-02 5.71197605e-03 2.11433208e-03\n",
      "  8.25446262e-04 4.31441115e-04 4.86021277e-04 6.20444085e-04\n",
      "  0.00000000e+00 6.64648838e-05 0.00000000e+00 5.84382216e-05\n",
      "  9.86071668e-05 1.50809836e-05 7.85032100e-05 1.43612625e-04\n",
      "  2.03318524e-04 2.00907617e-04 2.22588273e-05 1.25980439e-04\n",
      "  7.19907633e-05 5.09914823e-05 1.17669880e-04 8.59014257e-05\n",
      "  1.72862250e-04 1.93127100e-04 1.21467765e-04 1.82682439e-04\n",
      "  2.38822444e-04 1.30239219e-04 2.59924582e-04 2.38616262e-04\n",
      "  1.03681349e-04 6.48921263e-04 5.94518952e-04 8.25446262e-04\n",
      "  1.35695924e-03 4.33279455e-03 3.64692970e-02 3.89934964e-03\n",
      "  2.36242996e-03 1.43251744e-03]\n",
      " [1.65785322e-03 4.00093353e-03 3.21250274e-01 5.14635107e-03\n",
      "  3.16025158e-03 2.22751620e-03 2.57063619e-03 7.50428344e-04\n",
      "  4.85674715e-04 3.73267759e-04 1.86096785e-04 3.51089994e-04\n",
      "  2.00628263e-04 3.78949819e-04 3.64366244e-05 0.00000000e+00\n",
      "  3.21162062e-04 1.68193256e-04 2.53885349e-04 9.25655628e-05\n",
      "  9.50807140e-05 1.45183450e-04 0.00000000e+00 0.00000000e+00\n",
      "  1.44472763e-04 1.39111806e-04 1.10456119e-04 6.97092164e-05\n",
      "  0.00000000e+00 0.00000000e+00 0.00000000e+00 4.26154750e-05\n",
      "  1.64594109e-04 0.00000000e+00 1.58115739e-03 1.74303884e-03\n",
      "  2.22751620e-03 3.66981190e-03 7.12888722e-03 2.37298904e-02\n",
      "  4.72954578e-03 1.32327182e-03 4.32325940e-04 3.95555106e-04\n",
      "  2.83980079e-04 2.45555068e-04 1.02051611e-04 1.32520223e-04\n",
      "  1.48270883e-04 2.43541768e-04 1.36135297e-04 1.62551106e-04\n",
      "  9.68560281e-05 1.29482147e-04 1.28970065e-04 1.10773562e-04\n",
      "  9.21150198e-05 7.24830307e-05 9.18594293e-05 3.53803190e-05\n",
      "  8.42769463e-05 5.31874552e-05 9.30763737e-05 5.79435792e-05\n",
      "  1.50809836e-05 1.19222376e-04 4.18612356e-05 5.34391337e-05\n",
      "  4.06034634e-04 3.62923068e-04 4.85674715e-04 6.70098445e-04\n",
      "  5.38431928e-04 4.32325940e-04 1.04485100e-03 4.99913811e-03\n",
      "  9.04808936e-02 6.03366811e-03 2.09659093e-03 1.33280665e-03\n",
      "  7.86192865e-04 9.04905696e-04 4.64043273e-04 9.38107682e-04\n",
      "  6.03042362e-04 3.46022919e-04 3.10902809e-04 4.30744806e-04\n",
      "  5.12309156e-04 4.62250581e-04 2.95684419e-04 9.30667025e-05\n",
      "  2.47685749e-04 3.74777643e-04 2.16419689e-04 1.70728963e-04\n",
      "  1.79262189e-04 4.46390097e-04 2.03318524e-04 4.17488317e-05\n",
      "  0.00000000e+00 1.02922103e-04 0.00000000e+00 3.34501229e-04\n",
      "  3.51089994e-04 2.42204146e-04 2.91920791e-04 2.45555068e-04\n",
      "  2.61454719e-04 4.78301442e-04 1.33280665e-03 2.51127363e-03\n",
      "  6.52370058e-03 9.76216971e-02 9.80372580e-03 2.54111492e-03\n",
      "  1.39341938e-03 8.26495093e-04 3.98026729e-04 4.46673098e-04\n",
      "  3.37123373e-04 3.19575898e-04 4.37679034e-04 3.08452516e-04\n",
      "  3.20621512e-04 3.02746965e-04 2.30206959e-04 0.00000000e+00\n",
      "  5.86679611e-05 2.22153248e-04 1.29587065e-04 2.42018616e-04\n",
      "  1.25980439e-04 1.13174492e-04 1.74845918e-04 1.11602229e-04\n",
      "  0.00000000e+00 1.96037751e-04 3.64366244e-05 2.15453953e-04\n",
      "  2.12071716e-04 1.48270883e-04 2.65311656e-04 3.41956256e-04\n",
      "  4.64043273e-04 8.09304827e-04 1.14891471e-03 1.39341938e-03\n",
      "  1.41557532e-03 4.32397275e-03 2.81268525e-02 5.88547426e-03\n",
      "  1.36905806e-03 1.24605939e-03 8.95670998e-04 1.12254310e-03\n",
      "  1.00629325e-03 5.60203798e-04 3.72675089e-04 3.77034184e-04\n",
      "  2.07057146e-04 2.45383222e-04 1.58304779e-04 1.84443068e-04\n",
      "  8.06923917e-05 5.02340799e-05 1.17669880e-04 1.12755950e-04\n",
      "  9.07288038e-05 9.26579182e-05 0.00000000e+00 8.29509937e-05\n",
      "  1.68193256e-04 1.72387986e-04 8.39085860e-05 1.62551106e-04\n",
      "  1.11335608e-04 2.74962243e-04 3.46022919e-04 2.27946570e-04\n",
      "  5.05090189e-04 4.46673098e-04 4.90077413e-04 8.58169452e-04\n",
      "  1.24605939e-03 1.36447338e-03 5.03391977e-03 2.55205067e-02\n",
      "  2.85105575e-03 1.82773197e-03 1.53546338e-03 7.83166878e-04\n",
      "  5.16085979e-04 6.18811874e-04 4.55836401e-04 2.69016501e-04\n",
      "  2.13601704e-04 2.27039546e-04 9.93280162e-05 2.31882991e-04\n",
      "  1.93127100e-04 8.67478381e-05 1.67523454e-04 8.55427043e-05\n",
      "  0.00000000e+00 1.34994202e-04 9.50807140e-05 8.12100183e-05\n",
      "  1.31761266e-04 1.28970065e-04 1.36367239e-04 3.26227690e-04\n",
      "  5.12309156e-04 4.89189380e-04 4.28296031e-04 4.37679034e-04\n",
      "  4.23261467e-04 5.63257964e-04 1.00629325e-03 9.64181815e-04\n",
      "  1.34483257e-03 1.53546338e-03 2.88908501e-03 4.02994610e-03\n",
      "  2.03446783e-02 4.02354527e-03 1.85235985e-03 2.11348542e-03\n",
      "  1.32999849e-03 4.26882061e-04 3.70724905e-04 2.27280961e-04\n",
      "  3.97734532e-04 2.62169851e-04 2.38822444e-04 9.80782060e-05\n",
      "  1.26269428e-04 2.61938263e-04 2.38262763e-04 1.27778833e-04\n",
      "  0.00000000e+00 5.61737819e-05 7.89885075e-05 7.24830307e-05\n",
      "  9.43265829e-05 8.62798362e-05 9.30667025e-05 2.86107540e-04\n",
      "  1.78302612e-04 3.02746965e-04 0.00000000e+00 3.54001545e-04\n",
      "  3.77034184e-04 4.12864032e-04 4.30795453e-04 6.18811874e-04\n",
      "  1.31356097e-03 1.33033048e-03 2.11348542e-03 3.21327524e-03\n",
      "  5.41347492e-03 9.82468384e-02 5.97982620e-03 8.39698494e-04\n",
      "  8.25473659e-04 6.81254226e-04 4.90894957e-04 1.30971756e-04\n",
      "  2.38616262e-04 3.67475745e-04 9.46203116e-05 1.81185317e-04\n",
      "  0.00000000e+00 9.90467219e-05 1.10456119e-04 9.79709615e-05\n",
      "  4.59204737e-05 8.42769463e-05 1.09674724e-04 6.68791123e-05\n",
      "  2.16419689e-04 1.87121753e-04 4.14629453e-05 5.86679611e-05\n",
      "  2.01152719e-04 2.05801061e-04 1.58304779e-04 8.00070479e-05\n",
      "  3.39890579e-04 2.13601704e-04 3.95965146e-04 2.47486761e-04\n",
      "  3.70724905e-04 3.39646927e-04 7.26267286e-04 8.25473659e-04\n",
      "  1.08637818e-03 6.11367404e-03 3.78378267e-02 4.26337790e-03\n",
      "  1.91615590e-03 1.75124915e-03 5.94518952e-04 5.98176245e-04\n",
      "  4.67569045e-04 4.91555129e-04 0.00000000e+00 1.02147536e-04\n",
      "  0.00000000e+00 8.98116415e-05 0.00000000e+00 5.79435792e-05\n",
      "  7.54055091e-05 6.89728683e-05 4.46390097e-04 1.71537684e-04\n",
      "  2.56566049e-04 2.42018616e-04 0.00000000e+00 2.61223369e-04\n",
      "  5.02340799e-05 1.65023589e-04 1.47592164e-04 2.31882991e-04\n",
      "  2.91686756e-04 2.55234724e-04 2.62169851e-04 5.00400156e-04\n",
      "  1.66445384e-04 1.30971756e-04 3.98360520e-04 1.43841952e-03\n",
      "  1.75124915e-03 2.11433208e-03 8.57730664e-03 4.76489637e-01\n",
      "  4.33279455e-03 8.22537459e-04 1.36152573e-03 5.79364613e-04\n",
      "  4.12812774e-04 1.47592610e-04 1.64594109e-04 8.11053255e-05\n",
      "  0.00000000e+00 4.18612356e-05 5.44765757e-05 4.98293258e-05\n",
      "  0.00000000e+00 1.85890641e-04 9.26778424e-05 1.74845918e-04\n",
      "  9.99146471e-05 9.43601786e-05 9.07288038e-05 1.19220998e-04\n",
      "  2.66569239e-05 1.67523454e-04 1.47510004e-04 2.07443105e-04\n",
      "  1.26269428e-04 2.53059241e-04 2.40496342e-04 9.46203116e-05\n",
      "  3.23769204e-04 5.54231264e-04 4.67569045e-04 4.86021277e-04\n",
      "  5.46764109e-04 1.36152573e-03 2.36242996e-03 4.69025713e-03\n",
      "  7.31576181e-02 4.86577084e-03]]\n",
      "Train y from this matrix:\n",
      "[1.17999493e-02 2.13847978e-02 4.00093353e-03 1.89847991e-03\n",
      " 1.75573518e-03 1.74303884e-03 1.14029191e-03 8.74788183e-04\n",
      " 3.62923068e-04 4.32335859e-04 2.22498933e-04 3.34501229e-04\n",
      " 1.79904671e-04 2.54855080e-04 1.96037751e-04 2.14667369e-04\n",
      " 8.39965333e-05 8.29509937e-05 1.32802044e-04 8.30041435e-05\n",
      " 1.34994202e-04 8.13668409e-05 8.11938301e-05 1.27778833e-04\n",
      " 1.13355959e-04 1.71520887e-04 9.90467219e-05 1.25017417e-04\n",
      " 8.20412055e-05 1.02147536e-04 6.64648838e-05 6.68737548e-05\n",
      " 1.47592610e-04 9.42067418e-05 3.44613798e-04 1.75573518e-03\n",
      " 3.16025158e-03 4.71235657e-03 2.13182738e-01 7.12888722e-03\n",
      " 3.54718580e-03 9.98333827e-04 5.38431928e-04 5.17268229e-04\n",
      " 1.54733890e-04 2.91920791e-04 0.00000000e+00 7.87713499e-05\n",
      " 2.12071716e-04 1.99050046e-04 1.33518307e-04 8.39085860e-05\n",
      " 1.75915039e-04 7.69654869e-05 1.31761266e-04 0.00000000e+00\n",
      " 2.00765003e-04 7.89885075e-05 0.00000000e+00 1.15667291e-04\n",
      " 4.59204737e-05 2.31844484e-04 0.00000000e+00 0.00000000e+00\n",
      " 9.86071668e-05 1.06300465e-04 0.00000000e+00 0.00000000e+00\n",
      " 5.01899546e-04 8.74788183e-04 7.50428344e-04 1.04524696e-03\n",
      " 9.98333827e-04 1.32327182e-03 5.41453589e-03 3.43503957e-02\n",
      " 4.99913811e-03 2.09056143e-03 1.14556088e-03 4.78301442e-04\n",
      " 6.07383288e-04 4.73234482e-04 3.41956256e-04 2.17424103e-04\n",
      " 3.07891226e-04 2.74962243e-04 2.56204710e-04 2.38198541e-04\n",
      " 3.26227690e-04 3.95576374e-04 2.19297365e-04 8.62798362e-05\n",
      " 2.84295548e-04 1.05286993e-04 6.68791123e-05 1.26622877e-04\n",
      " 1.47724034e-04 6.89728683e-05 1.43612625e-04 1.80620106e-04\n",
      " 4.98293258e-05 1.59027557e-04 3.11161926e-04 2.22498933e-04\n",
      " 1.86096785e-04 4.89071868e-04 1.54733890e-04 2.83980079e-04\n",
      " 5.13278576e-04 1.14556088e-03 2.09659093e-03 6.91243896e-03\n",
      " 5.53732270e-02 6.52370058e-03 2.71122140e-03 1.40471810e-03\n",
      " 1.14891471e-03 1.12330086e-03 5.02323348e-04 5.05090189e-04\n",
      " 4.44748805e-04 4.86460801e-04 4.28296031e-04 5.99487546e-04\n",
      " 1.81276622e-04 1.78302612e-04 1.89812317e-04 7.83295472e-05\n",
      " 4.14629453e-05 2.35506598e-04 2.74752759e-04 2.56566049e-04\n",
      " 2.22588273e-05 1.11978783e-04 9.26778424e-05 7.88736651e-05\n",
      " 1.18803862e-04 2.54855080e-04 3.78949819e-04 2.61423621e-04\n",
      " 7.87713499e-05 1.32520223e-04 3.91946906e-04 4.73234482e-04\n",
      " 9.04905696e-04 7.84632653e-04 1.40471810e-03 2.54111492e-03\n",
      " 7.30365594e-03 3.96342171e-02 4.32397275e-03 2.43606309e-03\n",
      " 9.35938460e-04 8.58169452e-04 5.70070699e-04 5.43935970e-04\n",
      " 5.63257964e-04 3.53737016e-04 2.76850873e-04 3.54001545e-04\n",
      " 2.07062024e-04 1.39564995e-04 2.05801061e-04 1.79836227e-04\n",
      " 1.39870107e-04 2.61223369e-04 5.09914823e-05 9.77241253e-05\n",
      " 9.43601786e-05 1.20458131e-04 2.68498475e-04 8.39965333e-05\n",
      " 3.21162062e-04 1.47705307e-04 1.33518307e-04 1.36135297e-04\n",
      " 2.30309501e-04 3.07891226e-04 6.03042362e-04 6.04527728e-04\n",
      " 5.02323348e-04 3.98026729e-04 5.84871372e-04 9.35938460e-04\n",
      " 1.36905806e-03 3.91591113e-03 5.64698309e-02 5.03391977e-03\n",
      " 1.90514016e-03 1.60409088e-03 1.34483257e-03 6.58371296e-04\n",
      " 5.08370724e-04 4.30795453e-04 4.67963219e-04 2.70359093e-04\n",
      " 3.39890579e-04 2.25795843e-04 1.18540687e-04 1.47592164e-04\n",
      " 1.72862250e-04 4.14108676e-05 2.66569239e-05 2.04177861e-04\n",
      " 3.48240715e-04 8.30041435e-05 9.25655628e-05 1.18592679e-04\n",
      " 7.69654869e-05 1.29482147e-04 1.53184550e-04 2.38198541e-04\n",
      " 4.30744806e-04 5.05288521e-04 4.86460801e-04 3.19575898e-04\n",
      " 3.37144104e-04 5.43935970e-04 1.12254310e-03 1.13982147e-03\n",
      " 1.60409088e-03 1.82773197e-03 6.38774189e-03 4.91800518e-02\n",
      " 4.02994610e-03 2.52104737e-03 1.31870681e-03 1.33033048e-03\n",
      " 8.90186212e-04 3.70134697e-04 2.47486761e-04 2.73331976e-04\n",
      " 2.04995298e-04 2.55234724e-04 1.82682439e-04 1.19354703e-04\n",
      " 2.07443105e-04 5.88482914e-05 3.02796102e-04 8.11938301e-05\n",
      " 0.00000000e+00 2.37961400e-05 2.00765003e-04 9.21150198e-05\n",
      " 3.99582954e-05 2.19297365e-04 2.95684419e-04 2.72699708e-04\n",
      " 1.81276622e-04 3.20621512e-04 0.00000000e+00 2.76850873e-04\n",
      " 3.72675089e-04 3.49792019e-04 5.08370724e-04 5.16085979e-04\n",
      " 1.70025191e-03 1.31870681e-03 1.85235985e-03 4.82605982e-03\n",
      " 1.40240275e-01 5.41347492e-03 3.16644118e-03 9.14683175e-04\n",
      " 7.26267286e-04 7.12988343e-04 1.78243882e-04 1.66445384e-04\n",
      " 2.59924582e-04 3.73605079e-04 2.40496342e-04 7.67530868e-05\n",
      " 0.00000000e+00 1.71520887e-04 1.39111806e-04 8.22584116e-05\n",
      " 1.15667291e-04 3.53803190e-05 1.15106410e-04 1.05286993e-04\n",
      " 3.74777643e-04 7.85556146e-05 7.83295472e-05 0.00000000e+00\n",
      " 0.00000000e+00 1.39564995e-04 2.45383222e-04 1.00763317e-04\n",
      " 2.70359093e-04 2.69016501e-04 4.80880205e-04 3.70134697e-04\n",
      " 4.26882061e-04 4.88870515e-04 9.14683175e-04 8.39698494e-04\n",
      " 2.52360176e-03 5.23465729e-02 6.11367404e-03 3.13950172e-03\n",
      " 1.69442024e-03 1.43841952e-03 6.48921263e-04 4.48429411e-04\n",
      " 5.54231264e-04 3.53759728e-04 0.00000000e+00 8.20412055e-05\n",
      " 0.00000000e+00 9.61779489e-05 0.00000000e+00 9.30763737e-05\n",
      " 4.03753182e-05 1.47724034e-04 1.79262189e-04 1.37772863e-04\n",
      " 2.74752759e-04 1.29587065e-04 0.00000000e+00 1.39870107e-04\n",
      " 8.06923917e-05 8.83606516e-05 1.18540687e-04 9.93280162e-05\n",
      " 3.43599302e-04 2.04995298e-04 3.97734532e-04 2.67935536e-04\n",
      " 1.78243882e-04 4.90894957e-04 7.99871898e-04 1.69442024e-03\n",
      " 1.91615590e-03 5.71197605e-03 1.55609956e-01 8.57730664e-03\n",
      " 1.35695924e-03 9.12301794e-04 5.46764109e-04 5.42878816e-04\n",
      " 0.00000000e+00 6.68737548e-05 4.26154750e-05 9.23964094e-05\n",
      " 1.06300465e-04 1.19222376e-04 1.41046673e-04 1.80620106e-04\n",
      " 4.17488317e-05 1.12301965e-04 1.11978783e-04 1.13174492e-04\n",
      " 1.55214917e-04 9.77241253e-05 1.12755950e-04 3.08678086e-05\n",
      " 4.14108676e-05 8.67478381e-05 9.82084793e-05 1.19354703e-04\n",
      " 9.80782060e-05 1.12320351e-04 3.73605079e-04 3.67475745e-04\n",
      " 1.86284221e-04 4.48429411e-04 5.98176245e-04 4.31441115e-04\n",
      " 9.12301794e-04 8.22537459e-04 3.89934964e-03 2.11772291e-02\n",
      " 4.69025713e-03 2.62798861e-03]\n"
     ]
    }
   ],
   "source": [
    "# Testing form_train_subset_v1\n",
    "\n",
    "train_subset_x, train_subset_y = form_train_subset_v1(resulting_matrices[0])\n",
    "\n",
    "print(\"One of the good matrices:\")\n",
    "print(resulting_matrices[0])\n",
    "print(\"Train x from this matrix:\")\n",
    "print(train_subset_x)\n",
    "print(\"Train y from this matrix:\")\n",
    "print(train_subset_y)"
   ]
  },
  {
   "cell_type": "code",
   "execution_count": 129,
   "metadata": {},
   "outputs": [
    {
     "name": "stdout",
     "output_type": "stream",
     "text": [
      "(2, 1767)\n",
      "(1, 1767)\n"
     ]
    }
   ],
   "source": [
    "# iterate over all resulting matrices and concatenate results of form_train_subset_v1 function results\n",
    "\n",
    "# TODO: check for None (this also might be too small)\n",
    "train_x, train_y = form_train_subset_v1(resulting_matrices[0])\n",
    "\n",
    "for resulting_matrice in resulting_matrices[1:]:\n",
    "    temp_train_x, temp_train_y = form_train_subset_v1(resulting_matrice)\n",
    "    \n",
    "    if temp_train_x is not None and temp_train_y is not None:\n",
    "        train_x = np.concatenate((train_x, temp_train_x), axis = 1)\n",
    "        train_y = np.concatenate((train_y, temp_train_y))\n",
    "\n",
    "# to make 2D numpy array from the (m, ) vector\n",
    "train_y = np.atleast_2d(train_y)        \n",
    "\n",
    "print(train_x.shape)\n",
    "print(train_y.shape)\n",
    "\n",
    "### Training set formed ###"
   ]
  },
  {
   "cell_type": "code",
   "execution_count": 130,
   "metadata": {},
   "outputs": [],
   "source": [
    "### Model construction (Shallow Neural Network) ###"
   ]
  },
  {
   "cell_type": "code",
   "execution_count": 131,
   "metadata": {},
   "outputs": [],
   "source": [
    "def create_placeholders(n_x):\n",
    "    X = tf.placeholder(tf.float32, [n_x, None], name = \"X\")\n",
    "    Y = tf.placeholder(tf.float32, [1, None], name = \"Y\")\n",
    "    \n",
    "    return X, Y"
   ]
  },
  {
   "cell_type": "code",
   "execution_count": 132,
   "metadata": {},
   "outputs": [],
   "source": [
    "def initialize_parameters():\n",
    "    \"\"\"\n",
    "    Number of hidden units is selected according to Huang et al. (2003) article\n",
    "    https://www.researchgate.net/post/In_neural_networks_model_which_number_of_hidden_units_to_select\n",
    "    \"\"\"\n",
    "    \n",
    "    W1 = tf.get_variable(\"W1\", [4, 2], initializer = tf.contrib.layers.xavier_initializer(seed = 1))\n",
    "    b1 = tf.get_variable(\"b1\", [4, 1], initializer = tf.zeros_initializer())\n",
    "    W2 = tf.get_variable(\"W2\", [2, 4], initializer = tf.contrib.layers.xavier_initializer(seed = 1))\n",
    "    b2 = tf.get_variable(\"b2\", [2, 1], initializer = tf.zeros_initializer())\n",
    "    W3 = tf.get_variable(\"W3\", [1, 2], initializer = tf.contrib.layers.xavier_initializer(seed = 1))\n",
    "    b3 = tf.get_variable(\"b3\", [1, 1], initializer = tf.zeros_initializer())\n",
    "\n",
    "    parameters = {\"W1\": W1,\n",
    "                  \"b1\": b1,\n",
    "                  \"W2\": W2,\n",
    "                  \"b2\": b2,\n",
    "                  \"W3\": W3,\n",
    "                  \"b3\": b3}\n",
    "    \n",
    "    return parameters"
   ]
  },
  {
   "cell_type": "code",
   "execution_count": 133,
   "metadata": {},
   "outputs": [],
   "source": [
    "def forward_propagation(X, parameters):\n",
    "    \"\"\"\n",
    "    LINEAR -> RELU -> LINEAR -> RELU -> LINEAR\n",
    "    \n",
    "    X -- input dataset placeholder, of shape (input size, number of examples)\n",
    "    parameters -- python dictionary containing parameters \"W1\", \"b1\", \"W2\", \"b2\", \"W3\", \"b3\"\n",
    "                  the shapes are given in initialize_parameters\n",
    "\n",
    "    Returns:\n",
    "    Z3 -- the output of the last LINEAR unit\n",
    "    \"\"\"\n",
    "    \n",
    "    W1 = parameters['W1']\n",
    "    b1 = parameters['b1']\n",
    "    W2 = parameters['W2']\n",
    "    b2 = parameters['b2']\n",
    "    W3 = parameters['W3']\n",
    "    b3 = parameters['b3']\n",
    "    \n",
    "    Z1 = tf.matmul(W1, X) + b1                                              \n",
    "    A1 = tf.nn.relu(Z1)                                              \n",
    "    Z2 = tf.matmul(W2, A1) + b2                                             \n",
    "    A2 = tf.nn.relu(Z2)                                             \n",
    "    Z3 = tf.matmul(W3, A2) + b3\n",
    "    \n",
    "    return Z3"
   ]
  },
  {
   "cell_type": "code",
   "execution_count": 134,
   "metadata": {},
   "outputs": [],
   "source": [
    "def compute_cost(Z3, Y):\n",
    "    \"\"\"\n",
    "    Arguments:\n",
    "    Z3 -- output of forward propagation (output of the last LINEAR unit), of shape (1, number of examples)\n",
    "    Y -- \"true\" HI-C values, same shape as Z3\n",
    "    \n",
    "    Returns:\n",
    "    cost - Tensor of the cost function\n",
    "    \"\"\"\n",
    "    \n",
    "    # MSE\n",
    "    cost = tf.reduce_mean(tf.square(Y - Z3))\n",
    "    \n",
    "    return cost"
   ]
  },
  {
   "cell_type": "code",
   "execution_count": 135,
   "metadata": {},
   "outputs": [],
   "source": [
    "def random_mini_batches(X, Y, mini_batch_size = 64, seed = 0):\n",
    "    m = X.shape[1]                  # number of training examples\n",
    "    mini_batches = []\n",
    "    np.random.seed(seed)\n",
    "    \n",
    "    # Step 1: Shuffle (X, Y)\n",
    "    permutation = list(np.random.permutation(m))\n",
    "    shuffled_X = X[:, permutation]\n",
    "    shuffled_Y = Y[:, permutation].reshape((Y.shape[0],m))\n",
    "    \n",
    "    # Step 2: Partition (shuffled_X, shuffled_Y). Minus the end case.\n",
    "    num_complete_minibatches = math.floor(m/mini_batch_size) # number of mini batches of size mini_batch_size in your partitionning\n",
    "    for k in range(0, num_complete_minibatches):\n",
    "        mini_batch_X = shuffled_X[:, k * mini_batch_size : k * mini_batch_size + mini_batch_size]\n",
    "        mini_batch_Y = shuffled_Y[:, k * mini_batch_size : k * mini_batch_size + mini_batch_size]\n",
    "        mini_batch = (mini_batch_X, mini_batch_Y)\n",
    "        mini_batches.append(mini_batch)\n",
    "    \n",
    "    # Handling the end case (last mini-batch < mini_batch_size)\n",
    "    if m % mini_batch_size != 0:\n",
    "        mini_batch_X = shuffled_X[:, num_complete_minibatches * mini_batch_size : m]\n",
    "        mini_batch_Y = shuffled_Y[:, num_complete_minibatches * mini_batch_size : m]\n",
    "        mini_batch = (mini_batch_X, mini_batch_Y)\n",
    "        mini_batches.append(mini_batch)\n",
    "    \n",
    "    return mini_batches"
   ]
  },
  {
   "cell_type": "code",
   "execution_count": 136,
   "metadata": {},
   "outputs": [],
   "source": [
    "def model(X_train, Y_train, learning_rate = 0.00001,\n",
    "          num_epochs = 2000, minibatch_size = 32, print_cost = True):\n",
    "    \"\"\"\n",
    "    Three-layer tensorflow neural network: LINEAR->RELU->LINEAR->RELU->LINEAR\n",
    "    \n",
    "    Returns:\n",
    "    parameters -- parameters learnt by the model. They can then be used to predict.\n",
    "    \"\"\"\n",
    "    \n",
    "    ops.reset_default_graph()                         # to be able to rerun the model without overwriting tf variables\n",
    "    \n",
    "    seed = 3                                          # to create random minibatches \n",
    "    \n",
    "    (n_x, m) = X_train.shape                          # (n_x: input size, m : number of examples in the train set)\n",
    "    costs = []                                        # To keep track of the cost\n",
    "    \n",
    "\n",
    "    X, Y = create_placeholders(n_x)\n",
    "    parameters = initialize_parameters()\n",
    "    \n",
    "    # Forward propagation: Build the forward propagation in the tensorflow graph\n",
    "    Z3 = forward_propagation(X, parameters)\n",
    "    \n",
    "    # Cost function: Add cost function to tensorflow graph\n",
    "    cost = compute_cost(Z3, Y)\n",
    "    \n",
    "    # Backpropagation: Define the tensorflow optimizer. Use an AdamOptimizer.\n",
    "    optimizer = tf.train.AdamOptimizer(learning_rate = learning_rate).minimize(cost)\n",
    "    \n",
    "    # Initialize all the variables\n",
    "    init = tf.global_variables_initializer()\n",
    "\n",
    "    # Start the session to compute the tensorflow graph\n",
    "    with tf.Session(config = config) as sess:\n",
    "        \n",
    "        # Run the initialization\n",
    "        sess.run(init)\n",
    "        \n",
    "        # Do the training loop\n",
    "        for epoch in range(num_epochs):\n",
    "\n",
    "            epoch_cost = 0.                       # Defines a cost related to an epoch\n",
    "            num_minibatches = int(m / minibatch_size) # number of minibatches of size minibatch_size in the train set\n",
    "            \n",
    "            seed += 1\n",
    "            minibatches = random_mini_batches(X_train, Y_train, minibatch_size, seed)\n",
    "\n",
    "            for minibatch in minibatches:\n",
    "\n",
    "                # Select a minibatch\n",
    "                (minibatch_X, minibatch_Y) = minibatch\n",
    "                \n",
    "                # The line that runs the graph on a minibatch.\n",
    "                _ , minibatch_cost = sess.run([optimizer, cost], feed_dict={X: minibatch_X, Y: minibatch_Y})\n",
    "                \n",
    "                epoch_cost += minibatch_cost / num_minibatches\n",
    "\n",
    "            # Print the cost every epoch\n",
    "            if print_cost == True and epoch % 100 == 0:\n",
    "                print (\"Cost after epoch %i: %f\" % (epoch, epoch_cost))\n",
    "            if print_cost == True and epoch % 5 == 0:\n",
    "                costs.append(epoch_cost)\n",
    "                \n",
    "        # plot the cost\n",
    "        plt.plot(np.squeeze(costs))\n",
    "        plt.ylabel('cost')\n",
    "        plt.xlabel('iterations (per tens)')\n",
    "        plt.title(\"Learning rate =\" + str(learning_rate))\n",
    "        plt.show()\n",
    "\n",
    "        # lets save the parameters in a variable\n",
    "        parameters = sess.run(parameters)\n",
    "        print (\"Parameters have been trained!\")\n",
    "        \n",
    "        return parameters"
   ]
  },
  {
   "cell_type": "code",
   "execution_count": 137,
   "metadata": {},
   "outputs": [
    {
     "name": "stdout",
     "output_type": "stream",
     "text": [
      "Cost after epoch 0: 0.000649\n",
      "Cost after epoch 100: 0.000616\n",
      "Cost after epoch 200: 0.000585\n",
      "Cost after epoch 300: 0.000557\n",
      "Cost after epoch 400: 0.000533\n",
      "Cost after epoch 500: 0.000511\n",
      "Cost after epoch 600: 0.000496\n",
      "Cost after epoch 700: 0.000475\n",
      "Cost after epoch 800: 0.000460\n",
      "Cost after epoch 900: 0.000446\n",
      "Cost after epoch 1000: 0.000439\n",
      "Cost after epoch 1100: 0.000424\n",
      "Cost after epoch 1200: 0.000435\n",
      "Cost after epoch 1300: 0.000408\n",
      "Cost after epoch 1400: 0.000402\n",
      "Cost after epoch 1500: 0.000396\n",
      "Cost after epoch 1600: 0.000391\n",
      "Cost after epoch 1700: 0.000387\n",
      "Cost after epoch 1800: 0.000383\n",
      "Cost after epoch 1900: 0.000380\n"
     ]
    },
    {
     "data": {
      "image/png": "[encoded data removed]",
      "text/plain": [
       "<Figure size 432x288 with 1 Axes>"
      ]
     },
     "metadata": {},
     "output_type": "display_data"
    },
    {
     "name": "stdout",
     "output_type": "stream",
     "text": [
      "Parameters have been trained!\n"
     ]
    }
   ],
   "source": [
    "parameters = model(train_x, train_y)\n",
    "\n",
    "# TODO: сравнивать с dev set error"
   ]
  },
  {
   "cell_type": "code",
   "execution_count": 138,
   "metadata": {},
   "outputs": [],
   "source": [
    "# Tuning learning_rate and number of epochs:\n",
    "\n",
    "# cost after 3100 epochs: 0.000573 (learning_rate 0.00001) - optimal\n",
    "# Cost after 9900 epochs: 0.000422 (learning_rate 0.000025) - overfitting"
   ]
  },
  {
   "cell_type": "code",
   "execution_count": 139,
   "metadata": {},
   "outputs": [],
   "source": [
    "def predict(X, parameters):\n",
    "    W1 = tf.convert_to_tensor(parameters[\"W1\"])\n",
    "    b1 = tf.convert_to_tensor(parameters[\"b1\"])\n",
    "    W2 = tf.convert_to_tensor(parameters[\"W2\"])\n",
    "    b2 = tf.convert_to_tensor(parameters[\"b2\"])\n",
    "    W3 = tf.convert_to_tensor(parameters[\"W3\"])\n",
    "    b3 = tf.convert_to_tensor(parameters[\"b3\"])\n",
    "    \n",
    "    params = {\"W1\": W1, \"b1\": b1, \"W2\": W2, \"b2\": b2, \"W3\": W3, \"b3\": b3}\n",
    "    \n",
    "    # only 2 parameters for now\n",
    "    x = tf.placeholder(\"float\", [2, None])\n",
    "    z3 = forward_propagation(x, params)\n",
    "    \n",
    "    sess = tf.Session()\n",
    "    predictions = sess.run(z3, feed_dict = {x: X})\n",
    "    \n",
    "    return predictions"
   ]
  },
  {
   "cell_type": "code",
   "execution_count": 140,
   "metadata": {},
   "outputs": [],
   "source": [
    "# TODO: Model evaluation\n",
    "\n",
    "# Calculate accuracy on the test set\n",
    "# accuracy = tf.reduce_mean(tf.cast(correct_prediction, \"float\"))\n",
    "\n",
    "# print (\"Train Accuracy:\", accuracy.eval({X: X_train, Y: Y_train}))\n",
    "# print (\"Test Accuracy:\", accuracy.eval({X: X_test, Y: Y_test}))\n",
    "\n",
    "# Calculate RMSE and R^2\n",
    "\n",
    "# TODO:\n",
    "# def evaluate_model(X_test, Y_test):"
   ]
  },
  {
   "cell_type": "code",
   "execution_count": 141,
   "metadata": {},
   "outputs": [],
   "source": [
    "def predict_row(original_matrix, row_idx):\n",
    "    return np.array(predict(np.atleast_2d([original_matrix[row_idx - 1, ], original_matrix[row_idx + 1, ]]),\n",
    "                           parameters))"
   ]
  },
  {
   "cell_type": "code",
   "execution_count": 142,
   "metadata": {},
   "outputs": [],
   "source": [
    "# Restoring Hi-C matrix with NN predictions\n",
    "def restore_hic(original_matrix):\n",
    "    predicted_matrix = np.copy(original_matrix)\n",
    "    \n",
    "    for i in range(1, original_matrix.shape[0] - 1):\n",
    "        predicted_matrix[i, ] = predict_row(original_matrix, i)\n",
    "        print(f\"Row {i} is predicted\")\n",
    "    \n",
    "    return predicted_matrix"
   ]
  },
  {
   "cell_type": "code",
   "execution_count": 143,
   "metadata": {},
   "outputs": [
    {
     "name": "stdout",
     "output_type": "stream",
     "text": [
      "Row 1 is predicted\n",
      "Row 2 is predicted\n",
      "Row 3 is predicted\n",
      "Row 4 is predicted\n",
      "Row 5 is predicted\n",
      "Row 6 is predicted\n",
      "Row 7 is predicted\n",
      "Row 8 is predicted\n",
      "Row 9 is predicted\n",
      "Row 10 is predicted\n",
      "Row 11 is predicted\n",
      "Row 12 is predicted\n",
      "Row 13 is predicted\n",
      "Row 14 is predicted\n",
      "Row 15 is predicted\n"
     ]
    },
    {
     "name": "stderr",
     "output_type": "stream",
     "text": [
      "/anaconda3/lib/python3.6/site-packages/ipykernel_launcher.py:4: RuntimeWarning: divide by zero encountered in log10\n",
      "  after removing the cwd from sys.path.\n"
     ]
    },
    {
     "data": {
      "image/png": "[encoded data removed]",
      "text/plain": [
       "<Figure size 720x720 with 2 Axes>"
      ]
     },
     "metadata": {},
     "output_type": "display_data"
    },
    {
     "data": {
      "image/png": "[encoded data removed]",
      "text/plain": [
       "<Figure size 720x720 with 2 Axes>"
      ]
     },
     "metadata": {},
     "output_type": "display_data"
    }
   ],
   "source": [
    "predicted_matrix = restore_hic(resulting_matrices[3])\n",
    "\n",
    "# TODO: denormalize here to get right values\n",
    "\n",
    "# Don't show top and bottom rows (we can't predict them yet)\n",
    "plot_hic(resulting_matrices[3][1:-1, ])\n",
    "plot_hic(predicted_matrix[1:-1, ])"
   ]
  },
  {
   "cell_type": "code",
   "execution_count": 150,
   "metadata": {},
   "outputs": [
    {
     "name": "stdout",
     "output_type": "stream",
     "text": [
      "Row 1 is predicted\n",
      "Row 2 is predicted\n",
      "Row 3 is predicted\n",
      "Row 4 is predicted\n",
      "Row 5 is predicted\n",
      "Row 6 is predicted\n",
      "Row 7 is predicted\n",
      "Row 8 is predicted\n",
      "Row 9 is predicted\n",
      "Row 10 is predicted\n",
      "Row 11 is predicted\n",
      "Row 12 is predicted\n",
      "Row 13 is predicted\n",
      "Row 14 is predicted\n",
      "Row 15 is predicted\n",
      "Row 16 is predicted\n",
      "Row 17 is predicted\n",
      "Row 18 is predicted\n",
      "Row 19 is predicted\n",
      "Row 20 is predicted\n",
      "Row 21 is predicted\n",
      "Row 22 is predicted\n",
      "Row 23 is predicted\n",
      "Row 24 is predicted\n",
      "Row 25 is predicted\n",
      "Row 26 is predicted\n",
      "Row 27 is predicted\n",
      "Row 28 is predicted\n",
      "Row 29 is predicted\n",
      "Row 30 is predicted\n",
      "Row 31 is predicted\n",
      "Row 32 is predicted\n"
     ]
    },
    {
     "name": "stderr",
     "output_type": "stream",
     "text": [
      "/anaconda3/lib/python3.6/site-packages/ipykernel_launcher.py:4: RuntimeWarning: divide by zero encountered in log10\n",
      "  after removing the cwd from sys.path.\n"
     ]
    },
    {
     "data": {
      "image/png": "[encoded data removed]",
      "text/plain": [
       "<Figure size 720x720 with 2 Axes>"
      ]
     },
     "metadata": {},
     "output_type": "display_data"
    },
    {
     "data": {
      "image/png": "[encoded data removed]",
      "text/plain": [
       "<Figure size 720x720 with 2 Axes>"
      ]
     },
     "metadata": {},
     "output_type": "display_data"
    }
   ],
   "source": [
    "predicted_matrix = restore_hic(resulting_matrices[2])\n",
    "\n",
    "# Don't show top and bottom rows (we can't predict them yet)\n",
    "plot_hic(denormalize(resulting_matrices[2][1:-1, ], old_max, old_min))\n",
    "plot_hic(denormalize(predicted_matrix[1:-1, ], old_max, old_min))"
   ]
  },
  {
   "cell_type": "code",
   "execution_count": null,
   "metadata": {},
   "outputs": [],
   "source": []
  }
 ],
 "metadata": {
  "kernelspec": {
   "display_name": "Python 3",
   "language": "python",
   "name": "python3"
  },
  "language_info": {
   "codemirror_mode": {
    "name": "ipython",
    "version": 3
   },
   "file_extension": ".py",
   "mimetype": "text/x-python",
   "name": "python",
   "nbconvert_exporter": "python",
   "pygments_lexer": "ipython3",
   "version": "3.6.5"
  }
 },
 "nbformat": 4,
 "nbformat_minor": 2
}
