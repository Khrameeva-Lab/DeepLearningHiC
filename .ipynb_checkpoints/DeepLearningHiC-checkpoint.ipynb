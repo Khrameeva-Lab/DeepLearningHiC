{
 "cells": [
  {
   "cell_type": "code",
   "execution_count": 280,
   "metadata": {},
   "outputs": [],
   "source": [
    "# Notes:\n",
    "# матрица симметричная, не забывать, что может быть двойное включение\n",
    "# loss function modifyable\n",
    "# extract_good_regions - может быть другая\n",
    "# квадраты, которые мы не выбрали для validation set'а\n",
    "\n",
    "# Когда TASK_SIZE становится больше ~300, plt.imshow() начинает показывать не все nan - участки\n",
    "# Из-за этого кажется, что выбор хороших квадратов работает неправильно и выбирает хороший квадрат \"не до конца\"\n",
    "# Можно приблизить конкретный участок и убедиться, что там на самом деле есть маленький квадрат, окруженный nan'ами\n",
    "\n",
    "# по диагонали берутся данные дважды - обычные и зеркальные\n",
    "# если берем квадрат из одного из треугольников, надо брать такой же квадарт в другом из треугольников\n",
    "# квадраты ориентированы по разному. сверху до низу может быть градиент, другой квадрат может помочь нарушить эту зависимость\n",
    "# -1 дважды\n",
    "\n",
    "# фича - насколько далеко от диагонали находится квадратик\n",
    "# фичи - диагональный крест\n",
    "# Поговорить с Лемпицким - посмотреть его сетку\n",
    "\n",
    "# TODO:\n",
    "# 1) Выбирать квадрат из другого треугольника, если он был выбран в одном из треугольников\n",
    "\n",
    "# Plans:\n",
    "# 1) Important: We should try to normalize whole matrix (X and Y), then we should denormalize results +\n",
    "# 2) Train on more data\n",
    "# 3) Try different features\n",
    "# 4) Add more layers\n",
    "# 5) Scatter plot?"
   ]
  },
  {
   "cell_type": "code",
   "execution_count": 11,
   "metadata": {},
   "outputs": [],
   "source": [
    "import matplotlib.pyplot as plt\n",
    "import numpy as np\n",
    "import pandas\n",
    "import h5py\n",
    "import random\n",
    "\n",
    "import math\n",
    "import tensorflow as tf\n",
    "from tensorflow.python.framework import ops\n",
    "\n",
    "import cooler"
   ]
  },
  {
   "cell_type": "code",
   "execution_count": 12,
   "metadata": {},
   "outputs": [],
   "source": [
    "# the following directive activates inline plotting\n",
    "%matplotlib inline\n",
    "\n",
    "# allow to allocate resources for model training\n",
    "config = tf.ConfigProto()\n",
    "config.gpu_options.allow_growth = True"
   ]
  },
  {
   "cell_type": "code",
   "execution_count": 13,
   "metadata": {},
   "outputs": [],
   "source": [
    "# constants\n",
    "TASK_SIZE = 100"
   ]
  },
  {
   "cell_type": "code",
   "execution_count": 14,
   "metadata": {},
   "outputs": [],
   "source": [
    "def plot_hic(matrix):\n",
    "    fig = plt.figure(figsize=(10, 10))\n",
    "    ax = fig.add_subplot(111)\n",
    "    im = ax.matshow(np.log10(matrix), cmap='YlOrRd')\n",
    "    fig.colorbar(im)"
   ]
  },
  {
   "cell_type": "code",
   "execution_count": 15,
   "metadata": {},
   "outputs": [],
   "source": [
    "def mark_nans_as_zeros(matrix):\n",
    "    # we think NaN == 0 for now\n",
    "    matrix[np.isnan(matrix)] = 0"
   ]
  },
  {
   "cell_type": "code",
   "execution_count": 16,
   "metadata": {},
   "outputs": [],
   "source": [
    "def mark_defective_as_nan(matrix):\n",
    "    # row or column is considered to be defective if less than 5% of values are non-zero\n",
    "    # Since we work with the small and relatively good region of the entire Hi-C map, threshold is set to 20%\n",
    "    # Don't forget to set back to 5% when working with the entire map, because leaving 20% clears all the map\n",
    "    DEFECT_THRESHOLD = 20\n",
    "    \n",
    "    # non-zero values will give True\n",
    "    boolean_matrix = matrix != 0\n",
    "    \n",
    "    defective_rows = np.where(np.sum(boolean_matrix, axis = 1) < ((TASK_SIZE / 100) * DEFECT_THRESHOLD))\n",
    "    defective_columns = np.where(np.sum(boolean_matrix, axis = 0) < ((TASK_SIZE / 100) * DEFECT_THRESHOLD))\n",
    "    \n",
    "    # place nan value for all defective rows\n",
    "    for defective_row in defective_rows:\n",
    "        matrix[defective_row, :] = np.nan\n",
    "        \n",
    "    for defective_column in defective_columns:\n",
    "        matrix[:, defective_column] = np.nan\n",
    "        "
   ]
  },
  {
   "cell_type": "code",
   "execution_count": 17,
   "metadata": {},
   "outputs": [],
   "source": [
    "# function drops a coin pseudo randomly somewhere on the hi-c map \n",
    "# to select the region that will get into the training set\n",
    "# The coin is not fair, it extracts regions near the diagonal more frequently\n",
    "def _coin_toss():\n",
    "    # sigma is a tunable parameter\n",
    "    # sigma is smaller => selected segments are closer to the diagonal\n",
    "    sigma = int(TASK_SIZE/10)\n",
    "\n",
    "    result = []\n",
    "    for coordinate in np.random.normal(random.randint(sigma, TASK_SIZE - sigma), sigma, 2):\n",
    "        if coordinate < TASK_SIZE:\n",
    "            if coordinate >= 0:\n",
    "                result.append(int(coordinate))\n",
    "            else:\n",
    "                result.append(0)\n",
    "        else:\n",
    "            result.append(TASK_SIZE - 1)\n",
    "    \n",
    "    return result"
   ]
  },
  {
   "cell_type": "code",
   "execution_count": 18,
   "metadata": {},
   "outputs": [],
   "source": [
    "def _search_edges(extraction_matrix, coin_xy):\n",
    "    upper_left = [coin_xy[0], coin_xy[1]]\n",
    "    \n",
    "    while upper_left[0] - 1 >= 0 and extraction_matrix[upper_left[0] - 1][upper_left[1]] == 0: \n",
    "        upper_left[0] -= 1\n",
    "    \n",
    "    while upper_left[1] - 1 >= 0 and extraction_matrix[upper_left[0]][upper_left[1] - 1] == 0:\n",
    "        upper_left[1] -= 1\n",
    "                                                       \n",
    "    lower_right = [coin_xy[0], coin_xy[1]]\n",
    "    \n",
    "    while lower_right[0] + 1 < TASK_SIZE and extraction_matrix[lower_right[0] + 1][lower_right[1]] == 0:\n",
    "        lower_right[0] += 1\n",
    "    \n",
    "    while lower_right[1] + 1 < TASK_SIZE and extraction_matrix[lower_right[0]][lower_right[1] + 1] == 0:\n",
    "        lower_right[1] += 1\n",
    "        \n",
    "    return upper_left, lower_right\n",
    "                                        "
   ]
  },
  {
   "cell_type": "code",
   "execution_count": 19,
   "metadata": {},
   "outputs": [],
   "source": [
    "def extract_good_regions(matrix):\n",
    "    # TODO: this value is hardcoded for now, but it should be computed dynamically\n",
    "    # This number will depend on: number of good regions, good region to bad region ratio (good region density),\n",
    "    # map size (?), tunable parameter C (human can tune this parameter looking at the visualization)\n",
    "    # The number of good regions can be estimated by the number of defect intersections\n",
    "    number_of_tosses = 20\n",
    "    extraction_matrix = np.isnan(matrix).astype(int)\n",
    "    resulting_matrices = []\n",
    "    \n",
    "    for i in range(number_of_tosses):\n",
    "        x_y = _coin_toss()\n",
    "        \n",
    "        if extraction_matrix[x_y[0]][x_y[1]] == 0:\n",
    "            upper_left, lower_right = _search_edges(extraction_matrix, x_y)\n",
    "            resulting_matrices.append(matrix[upper_left[0]:(lower_right[0] + 1), upper_left[1]:(lower_right[1] + 1)])\n",
    "        \n",
    "            # -1 where extraction happened\n",
    "            extraction_matrix[upper_left[0]:(lower_right[0] + 1), upper_left[1]:(lower_right[1] + 1)] = -1\n",
    "            \n",
    "    return resulting_matrices, extraction_matrix"
   ]
  },
  {
   "cell_type": "code",
   "execution_count": 191,
   "metadata": {},
   "outputs": [],
   "source": [
    "# import hi-c data (drosophila embryo)\n",
    "filepath = \"Kc167.10000.cool\"\n",
    "c = cooler.Cooler(filepath)\n",
    "\n",
    "# TODO (future): train на одной хромосоме, test на другой хромосоме\n",
    "# получаем карту контактов для одной хромосомы, нам не нужны межхромосомные взаимодействия\n",
    "arr = c.matrix().fetch(\"chr2L\")\n",
    "\n",
    "current_matrix = arr[0:TASK_SIZE, 0:TASK_SIZE]"
   ]
  },
  {
   "cell_type": "code",
   "execution_count": 192,
   "metadata": {},
   "outputs": [
    {
     "name": "stderr",
     "output_type": "stream",
     "text": [
      "/anaconda3/lib/python3.6/site-packages/ipykernel_launcher.py:4: RuntimeWarning: divide by zero encountered in log10\n",
      "  after removing the cwd from sys.path.\n"
     ]
    },
    {
     "data": {
      "image/png": "[encoded data removed]",
      "text/plain": [
       "<Figure size 720x720 with 2 Axes>"
      ]
     },
     "metadata": {},
     "output_type": "display_data"
    }
   ],
   "source": [
    "# plots before data cleaning\n",
    "plot_hic(current_matrix)"
   ]
  },
  {
   "cell_type": "code",
   "execution_count": 193,
   "metadata": {},
   "outputs": [
    {
     "data": {
      "text/plain": [
       "<matplotlib.image.AxesImage at 0x1c3db342e8>"
      ]
     },
     "execution_count": 193,
     "metadata": {},
     "output_type": "execute_result"
    },
    {
     "data": {
      "image/png": "[encoded data removed]",
      "text/plain": [
       "<Figure size 432x288 with 1 Axes>"
      ]
     },
     "metadata": {},
     "output_type": "display_data"
    }
   ],
   "source": [
    "plt.imshow(np.isnan(current_matrix))"
   ]
  },
  {
   "cell_type": "code",
   "execution_count": 194,
   "metadata": {},
   "outputs": [],
   "source": [
    "# clean the data\n",
    "mark_nans_as_zeros(current_matrix)\n",
    "mark_defective_as_nan(current_matrix)"
   ]
  },
  {
   "cell_type": "code",
   "execution_count": 195,
   "metadata": {},
   "outputs": [
    {
     "name": "stderr",
     "output_type": "stream",
     "text": [
      "/anaconda3/lib/python3.6/site-packages/ipykernel_launcher.py:4: RuntimeWarning: divide by zero encountered in log10\n",
      "  after removing the cwd from sys.path.\n"
     ]
    },
    {
     "data": {
      "image/png": "[encoded data removed]",
      "text/plain": [
       "<Figure size 720x720 with 2 Axes>"
      ]
     },
     "metadata": {},
     "output_type": "display_data"
    }
   ],
   "source": [
    "# plots after data cleaning\n",
    "plot_hic(current_matrix)"
   ]
  },
  {
   "cell_type": "code",
   "execution_count": 196,
   "metadata": {},
   "outputs": [
    {
     "data": {
      "text/plain": [
       "<matplotlib.image.AxesImage at 0x1c3f1e88d0>"
      ]
     },
     "execution_count": 196,
     "metadata": {},
     "output_type": "execute_result"
    },
    {
     "data": {
      "image/png": "[encoded data removed]",
      "text/plain": [
       "<Figure size 432x288 with 1 Axes>"
      ]
     },
     "metadata": {},
     "output_type": "display_data"
    }
   ],
   "source": [
    "plt.imshow(np.isnan(current_matrix))"
   ]
  },
  {
   "cell_type": "code",
   "execution_count": 289,
   "metadata": {},
   "outputs": [],
   "source": [
    "# разброс между значениями в матрице очень большой (0...20)\n",
    "# из-за этого нейронная сеть не учится распознавать разницу меджу маленькими значениями\n",
    "# поэтому мы нормализуем матрицу чтобы привести все значения в диапазон 0...1\n",
    "def normalize(matrix):\n",
    "    matrix_max = np.nanmax(matrix)\n",
    "    matrix_min = np.nanmin(matrix)\n",
    "    \n",
    "    return (matrix - matrix_min) / (matrix_max - matrix_min), matrix_max, matrix_min\n",
    "\n",
    "def denormalize(matrix, old_max, old_min):\n",
    "    return matrix * (old_max - old_min) + old_min\n",
    "\n",
    "normalized_matrix, old_max, old_min = normalize(current_matrix)"
   ]
  },
  {
   "cell_type": "code",
   "execution_count": 218,
   "metadata": {},
   "outputs": [],
   "source": [
    "resulting_matrices, visualization_matrix = extract_good_regions(normalized_matrix)"
   ]
  },
  {
   "cell_type": "code",
   "execution_count": 219,
   "metadata": {},
   "outputs": [
    {
     "data": {
      "text/plain": [
       "<matplotlib.image.AxesImage at 0x1c3fd18630>"
      ]
     },
     "execution_count": 219,
     "metadata": {},
     "output_type": "execute_result"
    },
    {
     "data": {
      "image/png": "[encoded data removed]",
      "text/plain": [
       "<Figure size 432x288 with 1 Axes>"
      ]
     },
     "metadata": {},
     "output_type": "display_data"
    }
   ],
   "source": [
    "plt.imshow(visualization_matrix)"
   ]
  },
  {
   "cell_type": "code",
   "execution_count": 220,
   "metadata": {},
   "outputs": [
    {
     "name": "stderr",
     "output_type": "stream",
     "text": [
      "/anaconda3/lib/python3.6/site-packages/ipykernel_launcher.py:4: RuntimeWarning: divide by zero encountered in log10\n",
      "  after removing the cwd from sys.path.\n"
     ]
    },
    {
     "data": {
      "image/png": "[encoded data removed]",
      "text/plain": [
       "<Figure size 720x720 with 2 Axes>"
      ]
     },
     "metadata": {},
     "output_type": "display_data"
    }
   ],
   "source": [
    "plot_hic(resulting_matrices[0])"
   ]
  },
  {
   "cell_type": "code",
   "execution_count": 221,
   "metadata": {},
   "outputs": [],
   "source": [
    "# forms train and test subsets from one submatrix\n",
    "# Version 1: Only upper and lower cells are considered\n",
    "# TODO: Square feature selection\n",
    "def form_train_subset_v1(matrix):\n",
    "    # this is a tunable parameter\n",
    "    # could be 4 or much more\n",
    "    # only 2 neighboring cells for training for now\n",
    "    number_of_features = 2\n",
    "    \n",
    "    # the submatrix is too small to form training set\n",
    "    if matrix.shape[0] < (number_of_features + 1):\n",
    "        return (None, None)\n",
    "    \n",
    "    cut_indices = np.arange((number_of_features + 1), matrix.shape[0], step = (number_of_features + 1))\n",
    "    \n",
    "    submatrices = np.split(matrix, cut_indices)\n",
    "    \n",
    "    # first train_x and train_y (outside of the loop)\n",
    "    train_x = np.delete(submatrices[0], (number_of_features // 2), axis = 0)\n",
    "    train_y = submatrices[0][(number_of_features // 2), :]\n",
    "    \n",
    "    for submatrice in submatrices[1:]:\n",
    "        # if clause to avoid the last not full chunk\n",
    "        if submatrice.shape[0] == (number_of_features + 1):\n",
    "            # (number_of_features / 2) - center position (label values)\n",
    "            train_x = np.concatenate((train_x, np.delete(submatrice, (number_of_features // 2), axis = 0)), axis = 1)\n",
    "            train_y = np.concatenate((train_y, submatrice[(number_of_features // 2), ]))\n",
    "        \n",
    "    # x - features, y - labels\n",
    "    return (train_x, train_y.T)"
   ]
  },
  {
   "cell_type": "code",
   "execution_count": 222,
   "metadata": {},
   "outputs": [
    {
     "name": "stdout",
     "output_type": "stream",
     "text": [
      "One of the good matrices:\n",
      "[[0.00000000e+00 0.00000000e+00 0.00000000e+00 0.00000000e+00\n",
      "  0.00000000e+00 6.33189076e-05 0.00000000e+00 0.00000000e+00\n",
      "  1.34611425e-04 4.86721726e-05 1.33225955e-04 0.00000000e+00\n",
      "  4.37326299e-05 1.50170652e-04 9.33667977e-05 1.86178219e-04\n",
      "  3.93151555e-05 3.00989778e-04 0.00000000e+00 0.00000000e+00\n",
      "  0.00000000e+00 8.51154942e-05 1.74343461e-04]\n",
      " [0.00000000e+00 1.12205386e-04 0.00000000e+00 0.00000000e+00\n",
      "  0.00000000e+00 0.00000000e+00 0.00000000e+00 0.00000000e+00\n",
      "  0.00000000e+00 1.27400734e-04 0.00000000e+00 0.00000000e+00\n",
      "  1.71707020e-04 0.00000000e+00 6.10975324e-05 2.43663273e-04\n",
      "  5.14542439e-05 0.00000000e+00 2.99057134e-04 0.00000000e+00\n",
      "  0.00000000e+00 5.56980296e-05 0.00000000e+00]\n",
      " [1.27737208e-04 9.58620838e-05 5.48024812e-05 7.92595199e-05\n",
      "  4.05618804e-05 1.21369897e-04 1.02465750e-04 9.47579256e-05\n",
      "  4.30039393e-05 6.21966569e-05 4.25613270e-05 9.96500853e-05\n",
      "  2.79422844e-05 6.39661368e-05 1.04396713e-04 3.56867041e-05\n",
      "  5.02396156e-05 4.80781856e-05 1.09499098e-04 9.00832468e-05\n",
      "  1.13486578e-04 5.43832226e-05 1.67091068e-04]\n",
      " [2.74540899e-04 4.90554437e-05 6.54360913e-05 0.00000000e+00\n",
      "  1.45296938e-04 7.24599641e-05 0.00000000e+00 1.13144298e-04\n",
      "  0.00000000e+00 0.00000000e+00 0.00000000e+00 1.78478564e-04\n",
      "  0.00000000e+00 1.14566728e-04 1.06845728e-04 4.26111807e-05\n",
      "  4.49909019e-05 0.00000000e+00 1.30745777e-04 0.00000000e+00\n",
      "  0.00000000e+00 0.00000000e+00 1.99512616e-04]\n",
      " [1.87492184e-04 1.43577551e-04 3.83042248e-05 5.53984856e-05\n",
      "  8.50522468e-05 6.36236677e-05 6.44566437e-05 4.96733287e-05\n",
      "  9.01728821e-05 3.26042910e-05 0.00000000e+00 0.00000000e+00\n",
      "  4.39431193e-05 3.35318752e-05 1.56360302e-05 7.48297252e-05\n",
      "  6.58406387e-05 0.00000000e+00 0.00000000e+00 0.00000000e+00\n",
      "  0.00000000e+00 5.70167756e-05 0.00000000e+00]\n",
      " [0.00000000e+00 8.07209023e-05 0.00000000e+00 0.00000000e+00\n",
      "  0.00000000e+00 1.19233122e-04 0.00000000e+00 0.00000000e+00\n",
      "  0.00000000e+00 0.00000000e+00 0.00000000e+00 2.93687094e-04\n",
      "  0.00000000e+00 0.00000000e+00 0.00000000e+00 0.00000000e+00\n",
      "  0.00000000e+00 2.83390477e-04 2.15142628e-04 0.00000000e+00\n",
      "  0.00000000e+00 0.00000000e+00 0.00000000e+00]\n",
      " [1.40247051e-04 3.75893792e-05 5.01412660e-05 3.62590578e-05\n",
      "  5.56678455e-05 5.55234010e-05 0.00000000e+00 4.33491536e-05\n",
      "  0.00000000e+00 4.26798986e-05 5.84119216e-05 6.83807739e-05\n",
      "  3.83484877e-05 8.77882628e-05 4.09359727e-05 4.89770669e-05\n",
      "  3.44748706e-05 0.00000000e+00 5.00928359e-05 0.00000000e+00\n",
      "  0.00000000e+00 1.86591253e-05 7.64395838e-05]\n",
      " [0.00000000e+00 1.66906784e-04 4.45280961e-05 6.43999220e-05\n",
      "  9.88719819e-05 1.47923150e-04 9.99065296e-05 0.00000000e+00\n",
      "  1.04824645e-04 3.79020072e-05 2.07491502e-04 1.21451487e-04\n",
      "  0.00000000e+00 3.89803101e-05 7.27066175e-05 5.79923009e-05\n",
      "  0.00000000e+00 1.17193420e-04 8.89701752e-05 0.00000000e+00\n",
      "  0.00000000e+00 3.31405801e-05 0.00000000e+00]\n",
      " [1.83069062e-04 6.54221946e-05 1.74536092e-04 0.00000000e+00\n",
      "  0.00000000e+00 4.83176741e-05 0.00000000e+00 0.00000000e+00\n",
      "  0.00000000e+00 7.42819565e-05 0.00000000e+00 1.19012881e-04\n",
      "  3.33716900e-05 0.00000000e+00 3.56233759e-05 2.84139409e-05\n",
      "  6.00015680e-05 0.00000000e+00 0.00000000e+00 1.07587130e-04\n",
      "  1.80717216e-04 6.49503104e-05 1.33038785e-04]\n",
      " [1.84271814e-04 6.58520140e-05 4.39206954e-05 1.27042906e-04\n",
      "  0.00000000e+00 9.72702358e-05 0.00000000e+00 1.13913656e-04\n",
      "  0.00000000e+00 7.47699839e-05 2.04661144e-04 0.00000000e+00\n",
      "  6.71818795e-05 3.84485859e-05 7.17148381e-05 0.00000000e+00\n",
      "  3.01978871e-05 0.00000000e+00 0.00000000e+00 1.08293970e-04\n",
      "  0.00000000e+00 3.26885148e-05 0.00000000e+00]\n",
      " [2.14877163e-04 1.43979839e-04 1.15234647e-04 1.66661119e-04\n",
      "  8.52905541e-05 4.25346229e-05 4.30914962e-05 6.64166773e-05\n",
      "  0.00000000e+00 1.30782579e-04 0.00000000e+00 1.04768454e-04\n",
      "  0.00000000e+00 3.36258279e-05 3.13596813e-05 7.50393901e-05\n",
      "  5.28200937e-05 0.00000000e+00 7.67488968e-05 9.47102297e-05\n",
      "  0.00000000e+00 5.71765304e-05 0.00000000e+00]\n",
      " [6.63011861e-05 1.33276622e-04 8.29642324e-05 5.14239377e-05\n",
      "  5.26334658e-05 6.56211185e-05 3.98881473e-05 9.22190610e-05\n",
      "  5.58023037e-05 3.02651059e-05 5.52279659e-05 6.46534295e-05\n",
      "  9.06454074e-05 6.22522816e-05 1.93523038e-05 3.08715951e-05\n",
      "  3.25956916e-05 0.00000000e+00 2.36811713e-05 8.76696316e-05\n",
      "  7.36306089e-05 6.17471446e-05 3.61364822e-05]\n",
      " [1.96817589e-04 1.12536665e-04 8.44397056e-05 6.78461832e-05\n",
      "  8.33303692e-05 9.35034155e-05 6.31517228e-05 9.73353902e-05\n",
      "  4.41736687e-05 4.79163286e-05 8.74380343e-05 5.11803096e-05\n",
      "  4.30534935e-05 7.39193049e-05 6.12779188e-05 1.22191336e-04\n",
      "  7.09584688e-05 2.46929686e-05 7.49850200e-05 2.31333894e-05\n",
      "  5.82867357e-05 7.68109022e-05 2.86060053e-05]\n",
      " [2.92889569e-04 1.04668032e-04 1.16349080e-04 2.01927475e-04\n",
      "  0.00000000e+00 5.15351695e-05 5.22098800e-05 0.00000000e+00\n",
      "  0.00000000e+00 3.96142125e-05 1.08432417e-04 6.34690006e-05\n",
      "  0.00000000e+00 8.14824546e-05 9.49888809e-05 4.54590569e-05\n",
      "  1.11994923e-04 6.12437889e-05 0.00000000e+00 2.86878512e-04\n",
      "  9.63756281e-05 8.65942256e-05 1.41897897e-04]\n",
      " [1.82783275e-04 1.56768156e-04 1.43767491e-04 3.78049980e-05\n",
      "  1.16082596e-04 1.01308716e-04 5.86486137e-05 1.35592161e-04\n",
      "  3.07678593e-05 6.67493963e-05 9.13535558e-05 1.42592509e-04\n",
      "  6.99711472e-05 6.86484005e-05 1.49384612e-04 1.27663129e-04\n",
      "  8.08756654e-05 1.37593241e-04 1.04457185e-04 2.25580272e-04\n",
      "  1.08261061e-04 5.83640255e-05 7.96986597e-05]\n",
      " [1.13940409e-04 2.59578139e-04 1.62944356e-04 2.94578164e-05\n",
      "  1.80904113e-04 1.12771694e-04 1.14248127e-04 1.05653992e-04\n",
      "  1.43846687e-04 6.93485540e-05 0.00000000e+00 1.66663041e-04\n",
      "  1.55776622e-04 1.06982255e-04 8.31436638e-05 1.32634210e-04\n",
      "  8.40248865e-05 5.36066216e-05 8.13934862e-05 5.02208898e-05\n",
      "  0.00000000e+00 7.57958312e-05 6.21015370e-05]\n",
      " [1.44006911e-04 1.28657022e-04 1.71618316e-04 4.96414944e-05\n",
      "  3.04854589e-04 1.14023837e-04 7.70111091e-05 1.18696783e-04\n",
      "  0.00000000e+00 8.76481935e-05 1.59941005e-04 9.36186433e-05\n",
      "  1.57506263e-04 9.01417635e-05 2.80222788e-05 1.34106893e-04\n",
      "  1.17997005e-04 1.80672781e-04 1.37162043e-04 1.69261699e-04\n",
      "  0.00000000e+00 5.10916122e-05 0.00000000e+00]]\n",
      "Train x from this matrix:\n",
      "[[0.00000000e+00 0.00000000e+00 0.00000000e+00 0.00000000e+00\n",
      "  0.00000000e+00 6.33189076e-05 0.00000000e+00 0.00000000e+00\n",
      "  1.34611425e-04 4.86721726e-05 1.33225955e-04 0.00000000e+00\n",
      "  4.37326299e-05 1.50170652e-04 9.33667977e-05 1.86178219e-04\n",
      "  3.93151555e-05 3.00989778e-04 0.00000000e+00 0.00000000e+00\n",
      "  0.00000000e+00 8.51154942e-05 1.74343461e-04 2.74540899e-04\n",
      "  4.90554437e-05 6.54360913e-05 0.00000000e+00 1.45296938e-04\n",
      "  7.24599641e-05 0.00000000e+00 1.13144298e-04 0.00000000e+00\n",
      "  0.00000000e+00 0.00000000e+00 1.78478564e-04 0.00000000e+00\n",
      "  1.14566728e-04 1.06845728e-04 4.26111807e-05 4.49909019e-05\n",
      "  0.00000000e+00 1.30745777e-04 0.00000000e+00 0.00000000e+00\n",
      "  0.00000000e+00 1.99512616e-04 1.40247051e-04 3.75893792e-05\n",
      "  5.01412660e-05 3.62590578e-05 5.56678455e-05 5.55234010e-05\n",
      "  0.00000000e+00 4.33491536e-05 0.00000000e+00 4.26798986e-05\n",
      "  5.84119216e-05 6.83807739e-05 3.83484877e-05 8.77882628e-05\n",
      "  4.09359727e-05 4.89770669e-05 3.44748706e-05 0.00000000e+00\n",
      "  5.00928359e-05 0.00000000e+00 0.00000000e+00 1.86591253e-05\n",
      "  7.64395838e-05 1.84271814e-04 6.58520140e-05 4.39206954e-05\n",
      "  1.27042906e-04 0.00000000e+00 9.72702358e-05 0.00000000e+00\n",
      "  1.13913656e-04 0.00000000e+00 7.47699839e-05 2.04661144e-04\n",
      "  0.00000000e+00 6.71818795e-05 3.84485859e-05 7.17148381e-05\n",
      "  0.00000000e+00 3.01978871e-05 0.00000000e+00 0.00000000e+00\n",
      "  1.08293970e-04 0.00000000e+00 3.26885148e-05 0.00000000e+00\n",
      "  1.96817589e-04 1.12536665e-04 8.44397056e-05 6.78461832e-05\n",
      "  8.33303692e-05 9.35034155e-05 6.31517228e-05 9.73353902e-05\n",
      "  4.41736687e-05 4.79163286e-05 8.74380343e-05 5.11803096e-05\n",
      "  4.30534935e-05 7.39193049e-05 6.12779188e-05 1.22191336e-04\n",
      "  7.09584688e-05 2.46929686e-05 7.49850200e-05 2.31333894e-05\n",
      "  5.82867357e-05 7.68109022e-05 2.86060053e-05]\n",
      " [1.27737208e-04 9.58620838e-05 5.48024812e-05 7.92595199e-05\n",
      "  4.05618804e-05 1.21369897e-04 1.02465750e-04 9.47579256e-05\n",
      "  4.30039393e-05 6.21966569e-05 4.25613270e-05 9.96500853e-05\n",
      "  2.79422844e-05 6.39661368e-05 1.04396713e-04 3.56867041e-05\n",
      "  5.02396156e-05 4.80781856e-05 1.09499098e-04 9.00832468e-05\n",
      "  1.13486578e-04 5.43832226e-05 1.67091068e-04 0.00000000e+00\n",
      "  8.07209023e-05 0.00000000e+00 0.00000000e+00 0.00000000e+00\n",
      "  1.19233122e-04 0.00000000e+00 0.00000000e+00 0.00000000e+00\n",
      "  0.00000000e+00 0.00000000e+00 2.93687094e-04 0.00000000e+00\n",
      "  0.00000000e+00 0.00000000e+00 0.00000000e+00 0.00000000e+00\n",
      "  2.83390477e-04 2.15142628e-04 0.00000000e+00 0.00000000e+00\n",
      "  0.00000000e+00 0.00000000e+00 1.83069062e-04 6.54221946e-05\n",
      "  1.74536092e-04 0.00000000e+00 0.00000000e+00 4.83176741e-05\n",
      "  0.00000000e+00 0.00000000e+00 0.00000000e+00 7.42819565e-05\n",
      "  0.00000000e+00 1.19012881e-04 3.33716900e-05 0.00000000e+00\n",
      "  3.56233759e-05 2.84139409e-05 6.00015680e-05 0.00000000e+00\n",
      "  0.00000000e+00 1.07587130e-04 1.80717216e-04 6.49503104e-05\n",
      "  1.33038785e-04 6.63011861e-05 1.33276622e-04 8.29642324e-05\n",
      "  5.14239377e-05 5.26334658e-05 6.56211185e-05 3.98881473e-05\n",
      "  9.22190610e-05 5.58023037e-05 3.02651059e-05 5.52279659e-05\n",
      "  6.46534295e-05 9.06454074e-05 6.22522816e-05 1.93523038e-05\n",
      "  3.08715951e-05 3.25956916e-05 0.00000000e+00 2.36811713e-05\n",
      "  8.76696316e-05 7.36306089e-05 6.17471446e-05 3.61364822e-05\n",
      "  1.82783275e-04 1.56768156e-04 1.43767491e-04 3.78049980e-05\n",
      "  1.16082596e-04 1.01308716e-04 5.86486137e-05 1.35592161e-04\n",
      "  3.07678593e-05 6.67493963e-05 9.13535558e-05 1.42592509e-04\n",
      "  6.99711472e-05 6.86484005e-05 1.49384612e-04 1.27663129e-04\n",
      "  8.08756654e-05 1.37593241e-04 1.04457185e-04 2.25580272e-04\n",
      "  1.08261061e-04 5.83640255e-05 7.96986597e-05]]\n",
      "Train y from this matrix:\n",
      "[0.00000000e+00 1.12205386e-04 0.00000000e+00 0.00000000e+00\n",
      " 0.00000000e+00 0.00000000e+00 0.00000000e+00 0.00000000e+00\n",
      " 0.00000000e+00 1.27400734e-04 0.00000000e+00 0.00000000e+00\n",
      " 1.71707020e-04 0.00000000e+00 6.10975324e-05 2.43663273e-04\n",
      " 5.14542439e-05 0.00000000e+00 2.99057134e-04 0.00000000e+00\n",
      " 0.00000000e+00 5.56980296e-05 0.00000000e+00 1.87492184e-04\n",
      " 1.43577551e-04 3.83042248e-05 5.53984856e-05 8.50522468e-05\n",
      " 6.36236677e-05 6.44566437e-05 4.96733287e-05 9.01728821e-05\n",
      " 3.26042910e-05 0.00000000e+00 0.00000000e+00 4.39431193e-05\n",
      " 3.35318752e-05 1.56360302e-05 7.48297252e-05 6.58406387e-05\n",
      " 0.00000000e+00 0.00000000e+00 0.00000000e+00 0.00000000e+00\n",
      " 5.70167756e-05 0.00000000e+00 0.00000000e+00 1.66906784e-04\n",
      " 4.45280961e-05 6.43999220e-05 9.88719819e-05 1.47923150e-04\n",
      " 9.99065296e-05 0.00000000e+00 1.04824645e-04 3.79020072e-05\n",
      " 2.07491502e-04 1.21451487e-04 0.00000000e+00 3.89803101e-05\n",
      " 7.27066175e-05 5.79923009e-05 0.00000000e+00 1.17193420e-04\n",
      " 8.89701752e-05 0.00000000e+00 0.00000000e+00 3.31405801e-05\n",
      " 0.00000000e+00 2.14877163e-04 1.43979839e-04 1.15234647e-04\n",
      " 1.66661119e-04 8.52905541e-05 4.25346229e-05 4.30914962e-05\n",
      " 6.64166773e-05 0.00000000e+00 1.30782579e-04 0.00000000e+00\n",
      " 1.04768454e-04 0.00000000e+00 3.36258279e-05 3.13596813e-05\n",
      " 7.50393901e-05 5.28200937e-05 0.00000000e+00 7.67488968e-05\n",
      " 9.47102297e-05 0.00000000e+00 5.71765304e-05 0.00000000e+00\n",
      " 2.92889569e-04 1.04668032e-04 1.16349080e-04 2.01927475e-04\n",
      " 0.00000000e+00 5.15351695e-05 5.22098800e-05 0.00000000e+00\n",
      " 0.00000000e+00 3.96142125e-05 1.08432417e-04 6.34690006e-05\n",
      " 0.00000000e+00 8.14824546e-05 9.49888809e-05 4.54590569e-05\n",
      " 1.11994923e-04 6.12437889e-05 0.00000000e+00 2.86878512e-04\n",
      " 9.63756281e-05 8.65942256e-05 1.41897897e-04]\n"
     ]
    }
   ],
   "source": [
    "# Testing form_train_subset_v1\n",
    "\n",
    "train_subset_x, train_subset_y = form_train_subset_v1(resulting_matrices[0])\n",
    "\n",
    "print(\"One of the good matrices:\")\n",
    "print(resulting_matrices[0])\n",
    "print(\"Train x from this matrix:\")\n",
    "print(train_subset_x)\n",
    "print(\"Train y from this matrix:\")\n",
    "print(train_subset_y)"
   ]
  },
  {
   "cell_type": "code",
   "execution_count": 290,
   "metadata": {},
   "outputs": [
    {
     "name": "stdout",
     "output_type": "stream",
     "text": [
      "(2, 1112)\n",
      "(1, 1112)\n"
     ]
    }
   ],
   "source": [
    "# iterate over all resulting matrices and concatenate results of form_train_subset_v1 function results\n",
    "\n",
    "# TODO: check for None (this also might be too small)\n",
    "train_x, train_y = form_train_subset_v1(resulting_matrices[0])\n",
    "\n",
    "for resulting_matrice in resulting_matrices[1:]:\n",
    "    temp_train_x, temp_train_y = form_train_subset_v1(resulting_matrice)\n",
    "    \n",
    "    if temp_train_x is not None and temp_train_y is not None:\n",
    "        train_x = np.concatenate((train_x, temp_train_x), axis = 1)\n",
    "        train_y = np.concatenate((train_y, temp_train_y))\n",
    "\n",
    "# to make 2D numpy array from the (m, ) vector\n",
    "train_y = np.atleast_2d(train_y)        \n",
    "\n",
    "print(train_x.shape)\n",
    "print(train_y.shape)\n",
    "\n",
    "### Training set formed ###"
   ]
  },
  {
   "cell_type": "code",
   "execution_count": 46,
   "metadata": {},
   "outputs": [],
   "source": [
    "### Model construction (Shallow Neural Network) ###"
   ]
  },
  {
   "cell_type": "code",
   "execution_count": 233,
   "metadata": {},
   "outputs": [],
   "source": [
    "def create_placeholders(n_x):\n",
    "    X = tf.placeholder(tf.float32, [n_x, None], name = \"X\")\n",
    "    Y = tf.placeholder(tf.float32, [1, None], name = \"Y\")\n",
    "    \n",
    "    return X, Y"
   ]
  },
  {
   "cell_type": "code",
   "execution_count": 234,
   "metadata": {},
   "outputs": [],
   "source": [
    "def initialize_parameters():\n",
    "    \"\"\"\n",
    "    Number of hidden units is selected according to Huang et al. (2003) article\n",
    "    https://www.researchgate.net/post/In_neural_networks_model_which_number_of_hidden_units_to_select\n",
    "    \"\"\"\n",
    "    \n",
    "    W1 = tf.get_variable(\"W1\", [4, 2], initializer = tf.contrib.layers.xavier_initializer(seed = 1))\n",
    "    b1 = tf.get_variable(\"b1\", [4, 1], initializer = tf.zeros_initializer())\n",
    "    W2 = tf.get_variable(\"W2\", [2, 4], initializer = tf.contrib.layers.xavier_initializer(seed = 1))\n",
    "    b2 = tf.get_variable(\"b2\", [2, 1], initializer = tf.zeros_initializer())\n",
    "    W3 = tf.get_variable(\"W3\", [1, 2], initializer = tf.contrib.layers.xavier_initializer(seed = 1))\n",
    "    b3 = tf.get_variable(\"b3\", [1, 1], initializer = tf.zeros_initializer())\n",
    "\n",
    "    parameters = {\"W1\": W1,\n",
    "                  \"b1\": b1,\n",
    "                  \"W2\": W2,\n",
    "                  \"b2\": b2,\n",
    "                  \"W3\": W3,\n",
    "                  \"b3\": b3}\n",
    "    \n",
    "    return parameters"
   ]
  },
  {
   "cell_type": "code",
   "execution_count": 235,
   "metadata": {},
   "outputs": [],
   "source": [
    "def forward_propagation(X, parameters):\n",
    "    \"\"\"\n",
    "    LINEAR -> RELU -> LINEAR -> RELU -> LINEAR\n",
    "    \n",
    "    X -- input dataset placeholder, of shape (input size, number of examples)\n",
    "    parameters -- python dictionary containing parameters \"W1\", \"b1\", \"W2\", \"b2\", \"W3\", \"b3\"\n",
    "                  the shapes are given in initialize_parameters\n",
    "\n",
    "    Returns:\n",
    "    Z3 -- the output of the last LINEAR unit\n",
    "    \"\"\"\n",
    "    \n",
    "    W1 = parameters['W1']\n",
    "    b1 = parameters['b1']\n",
    "    W2 = parameters['W2']\n",
    "    b2 = parameters['b2']\n",
    "    W3 = parameters['W3']\n",
    "    b3 = parameters['b3']\n",
    "    \n",
    "    Z1 = tf.matmul(W1, X) + b1                                              \n",
    "    A1 = tf.nn.relu(Z1)                                              \n",
    "    Z2 = tf.matmul(W2, A1) + b2                                             \n",
    "    A2 = tf.nn.relu(Z2)                                             \n",
    "    Z3 = tf.matmul(W3, A2) + b3\n",
    "    \n",
    "    return Z3"
   ]
  },
  {
   "cell_type": "code",
   "execution_count": 236,
   "metadata": {},
   "outputs": [],
   "source": [
    "def compute_cost(Z3, Y):\n",
    "    \"\"\"\n",
    "    Arguments:\n",
    "    Z3 -- output of forward propagation (output of the last LINEAR unit), of shape (1, number of examples)\n",
    "    Y -- \"true\" HI-C values, same shape as Z3\n",
    "    \n",
    "    Returns:\n",
    "    cost - Tensor of the cost function\n",
    "    \"\"\"\n",
    "    \n",
    "    # MSE\n",
    "    cost = tf.reduce_mean(tf.square(Y - Z3))\n",
    "    \n",
    "    return cost"
   ]
  },
  {
   "cell_type": "code",
   "execution_count": 237,
   "metadata": {},
   "outputs": [],
   "source": [
    "def random_mini_batches(X, Y, mini_batch_size = 64, seed = 0):\n",
    "    m = X.shape[1]                  # number of training examples\n",
    "    mini_batches = []\n",
    "    np.random.seed(seed)\n",
    "    \n",
    "    # Step 1: Shuffle (X, Y)\n",
    "    permutation = list(np.random.permutation(m))\n",
    "    shuffled_X = X[:, permutation]\n",
    "    shuffled_Y = Y[:, permutation].reshape((Y.shape[0],m))\n",
    "    \n",
    "    # Step 2: Partition (shuffled_X, shuffled_Y). Minus the end case.\n",
    "    num_complete_minibatches = math.floor(m/mini_batch_size) # number of mini batches of size mini_batch_size in your partitionning\n",
    "    for k in range(0, num_complete_minibatches):\n",
    "        mini_batch_X = shuffled_X[:, k * mini_batch_size : k * mini_batch_size + mini_batch_size]\n",
    "        mini_batch_Y = shuffled_Y[:, k * mini_batch_size : k * mini_batch_size + mini_batch_size]\n",
    "        mini_batch = (mini_batch_X, mini_batch_Y)\n",
    "        mini_batches.append(mini_batch)\n",
    "    \n",
    "    # Handling the end case (last mini-batch < mini_batch_size)\n",
    "    if m % mini_batch_size != 0:\n",
    "        mini_batch_X = shuffled_X[:, num_complete_minibatches * mini_batch_size : m]\n",
    "        mini_batch_Y = shuffled_Y[:, num_complete_minibatches * mini_batch_size : m]\n",
    "        mini_batch = (mini_batch_X, mini_batch_Y)\n",
    "        mini_batches.append(mini_batch)\n",
    "    \n",
    "    return mini_batches"
   ]
  },
  {
   "cell_type": "code",
   "execution_count": 269,
   "metadata": {},
   "outputs": [],
   "source": [
    "def model(X_train, Y_train, learning_rate = 0.00001,\n",
    "          num_epochs = 3200, minibatch_size = 32, print_cost = True):\n",
    "    \"\"\"\n",
    "    Three-layer tensorflow neural network: LINEAR->RELU->LINEAR->RELU->LINEAR\n",
    "    \n",
    "    Returns:\n",
    "    parameters -- parameters learnt by the model. They can then be used to predict.\n",
    "    \"\"\"\n",
    "    \n",
    "    ops.reset_default_graph()                         # to be able to rerun the model without overwriting tf variables\n",
    "    \n",
    "    seed = 3                                          # to create random minibatches \n",
    "    \n",
    "    (n_x, m) = X_train.shape                          # (n_x: input size, m : number of examples in the train set)\n",
    "    costs = []                                        # To keep track of the cost\n",
    "    \n",
    "\n",
    "    X, Y = create_placeholders(n_x)\n",
    "    parameters = initialize_parameters()\n",
    "    \n",
    "    # Forward propagation: Build the forward propagation in the tensorflow graph\n",
    "    Z3 = forward_propagation(X, parameters)\n",
    "    \n",
    "    # Cost function: Add cost function to tensorflow graph\n",
    "    cost = compute_cost(Z3, Y)\n",
    "    \n",
    "    # Backpropagation: Define the tensorflow optimizer. Use an AdamOptimizer.\n",
    "    optimizer = tf.train.AdamOptimizer(learning_rate = learning_rate).minimize(cost)\n",
    "    \n",
    "    # Initialize all the variables\n",
    "    init = tf.global_variables_initializer()\n",
    "\n",
    "    # Start the session to compute the tensorflow graph\n",
    "    with tf.Session(config = config) as sess:\n",
    "        \n",
    "        # Run the initialization\n",
    "        sess.run(init)\n",
    "        \n",
    "        # Do the training loop\n",
    "        for epoch in range(num_epochs):\n",
    "\n",
    "            epoch_cost = 0.                       # Defines a cost related to an epoch\n",
    "            num_minibatches = int(m / minibatch_size) # number of minibatches of size minibatch_size in the train set\n",
    "            \n",
    "            seed += 1\n",
    "            minibatches = random_mini_batches(X_train, Y_train, minibatch_size, seed)\n",
    "\n",
    "            for minibatch in minibatches:\n",
    "\n",
    "                # Select a minibatch\n",
    "                (minibatch_X, minibatch_Y) = minibatch\n",
    "                \n",
    "                # The line that runs the graph on a minibatch.\n",
    "                _ , minibatch_cost = sess.run([optimizer, cost], feed_dict={X: minibatch_X, Y: minibatch_Y})\n",
    "                \n",
    "                epoch_cost += minibatch_cost / num_minibatches\n",
    "\n",
    "            # Print the cost every epoch\n",
    "            if print_cost == True and epoch % 100 == 0:\n",
    "                print (\"Cost after epoch %i: %f\" % (epoch, epoch_cost))\n",
    "            if print_cost == True and epoch % 5 == 0:\n",
    "                costs.append(epoch_cost)\n",
    "                \n",
    "        # plot the cost\n",
    "        plt.plot(np.squeeze(costs))\n",
    "        plt.ylabel('cost')\n",
    "        plt.xlabel('iterations (per tens)')\n",
    "        plt.title(\"Learning rate =\" + str(learning_rate))\n",
    "        plt.show()\n",
    "\n",
    "        # lets save the parameters in a variable\n",
    "        parameters = sess.run(parameters)\n",
    "        print (\"Parameters have been trained!\")\n",
    "        \n",
    "        return parameters"
   ]
  },
  {
   "cell_type": "code",
   "execution_count": 270,
   "metadata": {},
   "outputs": [
    {
     "name": "stdout",
     "output_type": "stream",
     "text": [
      "Cost after epoch 0: 0.001051\n",
      "Cost after epoch 100: 0.001007\n",
      "Cost after epoch 200: 0.000966\n",
      "Cost after epoch 300: 0.000931\n",
      "Cost after epoch 400: 0.000902\n",
      "Cost after epoch 500: 0.000869\n",
      "Cost after epoch 600: 0.000881\n",
      "Cost after epoch 700: 0.000812\n",
      "Cost after epoch 800: 0.000788\n",
      "Cost after epoch 900: 0.000778\n",
      "Cost after epoch 1000: 0.000745\n",
      "Cost after epoch 1100: 0.000760\n",
      "Cost after epoch 1200: 0.000713\n",
      "Cost after epoch 1300: 0.000695\n",
      "Cost after epoch 1400: 0.000702\n",
      "Cost after epoch 1500: 0.000668\n",
      "Cost after epoch 1600: 0.000657\n",
      "Cost after epoch 1700: 0.000672\n",
      "Cost after epoch 1800: 0.000640\n",
      "Cost after epoch 1900: 0.000629\n",
      "Cost after epoch 2000: 0.000647\n",
      "Cost after epoch 2100: 0.000615\n",
      "Cost after epoch 2200: 0.000627\n",
      "Cost after epoch 2300: 0.000603\n",
      "Cost after epoch 2400: 0.000598\n",
      "Cost after epoch 2500: 0.000594\n",
      "Cost after epoch 2600: 0.000609\n",
      "Cost after epoch 2700: 0.000586\n",
      "Cost after epoch 2800: 0.000582\n",
      "Cost after epoch 2900: 0.000579\n",
      "Cost after epoch 3000: 0.000576\n",
      "Cost after epoch 3100: 0.000573\n"
     ]
    },
    {
     "data": {
      "image/png": "[encoded data removed]",
      "text/plain": [
       "<Figure size 432x288 with 1 Axes>"
      ]
     },
     "metadata": {},
     "output_type": "display_data"
    },
    {
     "name": "stdout",
     "output_type": "stream",
     "text": [
      "Parameters have been trained!\n"
     ]
    }
   ],
   "source": [
    "parameters = model(train_x, train_y)"
   ]
  },
  {
   "cell_type": "code",
   "execution_count": null,
   "metadata": {},
   "outputs": [],
   "source": [
    "# Tuning learning_rate and number of epochs:\n",
    "\n",
    "# cost after 3100 epochs: 0.000573 (learning_rate 0.00001) - optimal\n",
    "# Cost after 9900 epochs: 0.000422 (learning_rate 0.000025) - overfitting"
   ]
  },
  {
   "cell_type": "code",
   "execution_count": 258,
   "metadata": {},
   "outputs": [],
   "source": [
    "def predict(X, parameters):\n",
    "    W1 = tf.convert_to_tensor(parameters[\"W1\"])\n",
    "    b1 = tf.convert_to_tensor(parameters[\"b1\"])\n",
    "    W2 = tf.convert_to_tensor(parameters[\"W2\"])\n",
    "    b2 = tf.convert_to_tensor(parameters[\"b2\"])\n",
    "    W3 = tf.convert_to_tensor(parameters[\"W3\"])\n",
    "    b3 = tf.convert_to_tensor(parameters[\"b3\"])\n",
    "    \n",
    "    params = {\"W1\": W1, \"b1\": b1, \"W2\": W2, \"b2\": b2, \"W3\": W3, \"b3\": b3}\n",
    "    \n",
    "    # only 2 parameters for now\n",
    "    x = tf.placeholder(\"float\", [2, 1])\n",
    "    z3 = forward_propagation(x, params)\n",
    "    \n",
    "    sess = tf.Session()\n",
    "    prediction = sess.run(z3, feed_dict = {x: X})\n",
    "    \n",
    "    return prediction[0][0]"
   ]
  },
  {
   "cell_type": "code",
   "execution_count": null,
   "metadata": {},
   "outputs": [],
   "source": [
    "# TODO: Model evaluation\n",
    "\n",
    "# Calculate accuracy on the test set\n",
    "# accuracy = tf.reduce_mean(tf.cast(correct_prediction, \"float\"))\n",
    "\n",
    "# print (\"Train Accuracy:\", accuracy.eval({X: X_train, Y: Y_train}))\n",
    "# print (\"Test Accuracy:\", accuracy.eval({X: X_test, Y: Y_test}))\n",
    "\n",
    "# Calculate RMSE and R^2\n",
    "\n",
    "# TODO:\n",
    "# def evaluate_model(X_test, Y_test):"
   ]
  },
  {
   "cell_type": "code",
   "execution_count": 259,
   "metadata": {},
   "outputs": [],
   "source": [
    "def predict_row(original_matrix, row_idx):\n",
    "    predictions = []\n",
    "    \n",
    "    # TODO: this loop is slow, refactor\n",
    "    for j in range(original_matrix.shape[1]):\n",
    "        current_features = np.atleast_2d([original_matrix[row_idx - 1, j], original_matrix[row_idx + 1, j]]).T\n",
    "        predictions.append(predict(current_features, parameters))\n",
    "        \n",
    "    return np.array(predictions)"
   ]
  },
  {
   "cell_type": "code",
   "execution_count": 284,
   "metadata": {},
   "outputs": [],
   "source": [
    "# Restoring Hi-C matrix with NN predictions\n",
    "def restore_hic(original_matrix):\n",
    "    predicted_matrix = np.copy(original_matrix)\n",
    "    \n",
    "    for i in range(1, original_matrix.shape[0] - 1):\n",
    "        predicted_matrix[i, ] = predict_row(original_matrix, i).T\n",
    "        print(f\"Row {i} is predicted\")\n",
    "    \n",
    "    return predicted_matrix"
   ]
  },
  {
   "cell_type": "code",
   "execution_count": 285,
   "metadata": {},
   "outputs": [
    {
     "name": "stdout",
     "output_type": "stream",
     "text": [
      "Row 1 is predicted\n",
      "Row 2 is predicted\n",
      "Row 3 is predicted\n",
      "Row 4 is predicted\n",
      "Row 5 is predicted\n",
      "Row 6 is predicted\n",
      "Row 7 is predicted\n",
      "Row 8 is predicted\n",
      "Row 9 is predicted\n",
      "Row 10 is predicted\n",
      "Row 11 is predicted\n",
      "Row 12 is predicted\n",
      "Row 13 is predicted\n",
      "Row 14 is predicted\n",
      "Row 15 is predicted\n"
     ]
    },
    {
     "name": "stderr",
     "output_type": "stream",
     "text": [
      "/anaconda3/lib/python3.6/site-packages/ipykernel_launcher.py:4: RuntimeWarning: divide by zero encountered in log10\n",
      "  after removing the cwd from sys.path.\n"
     ]
    },
    {
     "data": {
      "image/png": "[encoded data removed]",
      "text/plain": [
       "<Figure size 720x720 with 2 Axes>"
      ]
     },
     "metadata": {},
     "output_type": "display_data"
    },
    {
     "data": {
      "image/png": "[encoded data removed]",
      "text/plain": [
       "<Figure size 720x720 with 2 Axes>"
      ]
     },
     "metadata": {},
     "output_type": "display_data"
    }
   ],
   "source": [
    "predicted_matrix = restore_hic(resulting_matrices[3])\n",
    "\n",
    "# TODO: denormalize here to get right values\n",
    "\n",
    "# Don't show top and bottom rows (we can't predict them yet)\n",
    "plot_hic(resulting_matrices[3][1:-1, ])\n",
    "plot_hic(predicted_matrix[1:-1, ])"
   ]
  },
  {
   "cell_type": "code",
   "execution_count": 288,
   "metadata": {},
   "outputs": [
    {
     "name": "stdout",
     "output_type": "stream",
     "text": [
      "Row 1 is predicted\n",
      "Row 2 is predicted\n",
      "Row 3 is predicted\n",
      "Row 4 is predicted\n",
      "Row 5 is predicted\n",
      "Row 6 is predicted\n",
      "Row 7 is predicted\n",
      "Row 8 is predicted\n",
      "Row 9 is predicted\n",
      "Row 10 is predicted\n",
      "Row 11 is predicted\n",
      "Row 12 is predicted\n",
      "Row 13 is predicted\n",
      "Row 14 is predicted\n",
      "Row 15 is predicted\n",
      "Row 16 is predicted\n",
      "Row 17 is predicted\n",
      "Row 18 is predicted\n",
      "Row 19 is predicted\n",
      "Row 20 is predicted\n",
      "Row 21 is predicted\n",
      "Row 22 is predicted\n",
      "Row 23 is predicted\n",
      "Row 24 is predicted\n",
      "Row 25 is predicted\n",
      "Row 26 is predicted\n",
      "Row 27 is predicted\n",
      "Row 28 is predicted\n",
      "Row 29 is predicted\n",
      "Row 30 is predicted\n",
      "Row 31 is predicted\n",
      "Row 32 is predicted\n"
     ]
    },
    {
     "name": "stderr",
     "output_type": "stream",
     "text": [
      "/anaconda3/lib/python3.6/site-packages/ipykernel_launcher.py:4: RuntimeWarning: divide by zero encountered in log10\n",
      "  after removing the cwd from sys.path.\n"
     ]
    },
    {
     "data": {
      "image/png": "[encoded data removed]",
      "text/plain": [
       "<Figure size 720x720 with 2 Axes>"
      ]
     },
     "metadata": {},
     "output_type": "display_data"
    },
    {
     "data": {
      "image/png": "[encoded data removed]",
      "text/plain": [
       "<Figure size 720x720 with 2 Axes>"
      ]
     },
     "metadata": {},
     "output_type": "display_data"
    }
   ],
   "source": [
    "predicted_matrix = restore_hic(resulting_matrices[1])\n",
    "\n",
    "# TODO: denormalize here to get right values\n",
    "\n",
    "# Don't show top and bottom rows (we can't predict them yet)\n",
    "plot_hic(resulting_matrices[1][1:-1, ])\n",
    "plot_hic(predicted_matrix[1:-1, ])"
   ]
  }
 ],
 "metadata": {
  "kernelspec": {
   "display_name": "Python 3",
   "language": "python",
   "name": "python3"
  },
  "language_info": {
   "codemirror_mode": {
    "name": "ipython",
    "version": 3
   },
   "file_extension": ".py",
   "mimetype": "text/x-python",
   "name": "python",
   "nbconvert_exporter": "python",
   "pygments_lexer": "ipython3",
   "version": "3.6.5"
  }
 },
 "nbformat": 4,
 "nbformat_minor": 2
}
